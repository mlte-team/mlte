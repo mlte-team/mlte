{
 "cells": [
  {
   "attachments": {},
   "cell_type": "markdown",
   "metadata": {},
   "source": [
    "## 1. Define a Specification\n",
    "\n",
    "In the first phase of SDMT, we define a `Specification` that represents the requirements the completed model must meet in order to be acceptable for use in the system into which it will be integrated."
   ]
  },
  {
   "attachments": {},
   "cell_type": "markdown",
   "metadata": {},
   "source": [
    "#### Initialize MLTE Context\n",
    "\n",
    "MLTE contains a global context that manages the currently active _session_. Initializing the context tells MLTE how to store all of the artifacts that it produces."
   ]
  },
  {
   "cell_type": "code",
   "execution_count": 1,
   "metadata": {},
   "outputs": [],
   "source": [
    "import os\n",
    "from mlte.session import set_context, set_store\n",
    "\n",
    "store_path = os.path.join(os.getcwd(), \"store\")\n",
    "os.makedirs(\n",
    "    store_path, exist_ok=True\n",
    ")  # Ensure we are creating the folder if it is not there.\n",
    "\n",
    "set_context(\"IrisClassifier\", \"0.0.1\")\n",
    "set_store(f\"local://{store_path}\")"
   ]
  },
  {
   "attachments": {},
   "cell_type": "markdown",
   "metadata": {},
   "source": [
    "#### Build a `Specification`\n",
    "\n",
    "In MLTE, we define requirements by constructing a specification (`Spec`). For each property, we define the validations to perform as well."
   ]
  },
  {
   "cell_type": "code",
   "execution_count": 2,
   "metadata": {},
   "outputs": [],
   "source": [
    "from mlte.spec.spec import Spec\n",
    "\n",
    "from mlte.property.costs.storage_cost import StorageCost\n",
    "from mlte.property.costs.training_memory_cost import TrainingMemoryCost\n",
    "from mlte.property.costs.training_compute_cost import TrainingComputeCost\n",
    "from mlte.property.functionality.task_efficacy import TaskEfficacy\n",
    "\n",
    "\n",
    "from mlte.measurement.storage import LocalObjectSize\n",
    "from mlte.measurement.cpu import LocalProcessCPUUtilization\n",
    "from mlte.measurement.memory import LocalProcessMemoryConsumption\n",
    "from confusion_matrix import ConfusionMatrix\n",
    "from mlte.value.types.real import Real\n",
    "from mlte.value.types.image import Image\n",
    "\n",
    "spec = Spec(\n",
    "    properties={\n",
    "        TaskEfficacy(\n",
    "            \"Important to understand if the model is useful for this case\"\n",
    "        ): {\n",
    "            \"accuracy\": Real.greater_or_equal_to(0.98),\n",
    "            \"confusion matrix\": ConfusionMatrix.misclassification_count_less_than(\n",
    "                2\n",
    "            ),\n",
    "            \"class distribution\": Image.ignore(\"Inspect the image.\"),\n",
    "        },\n",
    "        StorageCost(\"Critical since model will be in an embedded decice\"): {\n",
    "            \"model size\": LocalObjectSize.value().less_than(3000)\n",
    "        },\n",
    "        TrainingMemoryCost(\"Useful to evaluate resources needed\"): {\n",
    "            \"training memory\": LocalProcessMemoryConsumption.value().average_consumption_less_than(\n",
    "                60000\n",
    "            )\n",
    "        },\n",
    "        TrainingComputeCost(\"Useful to evaluate resources needed\"): {\n",
    "            \"training cpu\": LocalProcessCPUUtilization.value().max_utilization_less_than(\n",
    "                5.0\n",
    "            )\n",
    "        },\n",
    "    }\n",
    ")\n",
    "spec.save(parents=True, force=True)"
   ]
  }
 ],
 "metadata": {
  "kernelspec": {
   "display_name": "env",
   "language": "python",
   "name": "python3"
  },
  "language_info": {
   "codemirror_mode": {
    "name": "ipython",
    "version": 3
   },
   "file_extension": ".py",
   "mimetype": "text/x-python",
   "name": "python",
   "nbconvert_exporter": "python",
   "pygments_lexer": "ipython3",
   "version": "3.9.16"
  },
  "orig_nbformat": 4,
  "vscode": {
   "interpreter": {
    "hash": "82adda432962015d5f71beb9387a99f24d390514e497c776c87ff3434daf7312"
   }
  }
 },
 "nbformat": 4,
 "nbformat_minor": 2
}
