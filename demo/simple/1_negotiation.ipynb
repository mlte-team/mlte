{
 "cells": [
  {
   "cell_type": "markdown",
   "metadata": {},
   "source": [
    "## 1. Define a Negotiation Card\n",
    "\n",
    "In the first phase of SDMT, we negotiate the requirements for our model and system. `mlte` provides an artifact that assists in this process - the `NegotiationCard`.\n",
    "\n",
    "NOTE: this demo has an additional set of requirements than MLTE. You can install them with the command: \n",
    "\n",
    "`poetry install --with demo`"
   ]
  },
  {
   "cell_type": "markdown",
   "metadata": {},
   "source": [
    "#### Initialize MLTE Context\n",
    "\n",
    "MLTE contains a global context that manages the currently active _session_. Initializing the context tells MLTE how to store all of the artifacts that it produces."
   ]
  },
  {
   "cell_type": "code",
   "execution_count": 1,
   "metadata": {},
   "outputs": [
    {
     "name": "stdout",
     "output_type": "stream",
     "text": [
      "Creating initial custom lists at URI: local:///Users/aderr/repos/mlte/mlte/demo/simple/../store\n",
      "Loaded 8 qa_categories for initial list\n",
      "Loaded 14 quality_attributes for initial list\n",
      "Creating sample catalog at URI: StoreType.LOCAL_FILESYSTEM:local:///Users/aderr/repos/mlte/mlte/demo/simple/../store\n",
      "Loading sample catalog entries.\n",
      "Loaded 9 entries for sample catalog.\n"
     ]
    }
   ],
   "source": [
    "# Sets up context for the model being used, sets up constants related to folders and model data to be used.\n",
    "from demo.simple.session import *"
   ]
  },
  {
   "cell_type": "markdown",
   "metadata": {},
   "source": [
    "#### Build a `NegotiationCard`\n",
    "\n",
    "In MLTE, we negotiation requirements with the help of a `NegotiationCard`."
   ]
  },
  {
   "cell_type": "code",
   "execution_count": null,
   "metadata": {},
   "outputs": [
    {
     "data": {
      "text/plain": [
       "ArtifactModel(header=ArtifactHeaderModel(identifier='card.default', type='card', timestamp=1759857227, creator=None, level='model'), body=NegotiationCardModel(artifact_type=<ArtifactType.NEGOTIATION_CARD: 'card'>, system=SystemDescriptor(goals=[GoalDescriptor(description='The model should perform well.', metrics=[MetricDescriptor(description='accuracy', baseline='Better than random chance.')])], problem_type=<ProblemType.CLASSIFICATION: 'classification'>, task='Flower Classification', usage_context='A handheld flower identification device.', risks=['The wrong type of flower is identified.', 'The flower is not identified.']), data=[DataDescriptor(description='Iris flower dataset.', source='https://archive.ics.uci.edu/dataset/53/iris', classification=<DataClassification.UNCLASSIFIED: 'unclassified'>, access='None', labeling_method='by hand', labels=[LabelDescriptor(name=None, description='Setosa', percentage=30.0), LabelDescriptor(name=None, description='Versicolour', percentage=30.0), LabelDescriptor(name=None, description='Virginica', percentage=40.0)], fields=[FieldDescriptor(name='Sepal length', description='The length of the sepal.', type='float', expected_values='N/A', missing_values='N/A', special_values='N/A')], rights='N/A', policies='N/A')], model=ModelDescriptor(development_compute_resources=ModelResourcesDescriptor(cpu='1', gpu='0', memory='6MiB', storage='2KiB'), deployment_platform='local server', capability_deployment_mechanism='API', input_specification=[ModelIODescriptor(name='i1', description='description', type='Vector[150]', expected_values=None)], output_specification=[ModelIODescriptor(name='o1', description='description', type='Vector[3]', expected_values=None)], production_compute_resources=ModelResourcesDescriptor(cpu='1', gpu='0', memory='6MiB', storage='2KiB')), system_requirements=[QASDescriptor(identifier='card.default-qas_001', quality='Accuracy', stimulus='The model receives a picture taken at the garden', source='the flower identification application', environment='normal operations', response='The model returns proper results', measure='with an accuracy of 98%'), QASDescriptor(identifier='card.default-qas_002', quality='Accuracy', stimulus='The model receives a picture taken at the garden', source='the flower identification application', environment='normal operations', response='The model returns proper results', measure='with misclassification less than 2'), QASDescriptor(identifier='card.default-qas_003', quality='Accuracy', stimulus='The model receives a picture taken at the garden', source='the flower identification application', environment='normal operations', response='The model returns proper results', measure='with a proper distribution'), QASDescriptor(identifier='card.default-qas_004', quality='Resource Usage', stimulus='The model is being trained', source='by model developers', environment='development time', response='The model is properly trained', measure='and requires less than 3 MB of storage.'), QASDescriptor(identifier='card.default-qas_005', quality='Resource Usage', stimulus='The model is being trained', source='by model developers', environment='development time', response='The model is properly trained', measure='without using more than 60 MB of memory'), QASDescriptor(identifier='card.default-qas_006', quality='Resource Usage', stimulus='The model is being trained', source='by model developers', environment='development time', response='The model is properly trained', measure='without using more than 5% of CPU')]))"
      ]
     },
     "execution_count": 2,
     "metadata": {},
     "output_type": "execute_result"
    }
   ],
   "source": [
    "from mlte.negotiation.artifact import NegotiationCard\n",
    "from mlte.negotiation.model import (\n",
    "    MetricDescriptor,\n",
    "    DataDescriptor,\n",
    "    DataClassification,\n",
    "    FieldDescriptor,\n",
    "    LabelDescriptor,\n",
    "    ModelDescriptor,\n",
    "    ModelResourcesDescriptor,\n",
    "    ModelIODescriptor,\n",
    "    SystemDescriptor,\n",
    "    GoalDescriptor,\n",
    "    ProblemType,\n",
    ")\n",
    "from mlte.negotiation.qas import QASDescriptor\n",
    "\n",
    "card = NegotiationCard(\n",
    "    system=SystemDescriptor(\n",
    "        goals=[\n",
    "            GoalDescriptor(\n",
    "                description=\"The model should perform well.\",\n",
    "                metrics=[\n",
    "                    MetricDescriptor(\n",
    "                        description=\"accuracy\",\n",
    "                        baseline=\"Better than random chance.\",\n",
    "                    )\n",
    "                ],\n",
    "            )\n",
    "        ],\n",
    "        problem_type=ProblemType.CLASSIFICATION,\n",
    "        task=\"Flower Classification\",\n",
    "        usage_context=\"A handheld flower identification device.\",\n",
    "        risks=[\n",
    "            \"The wrong type of flower is identified.\",\n",
    "            \"The flower is not identified.\",\n",
    "        ],\n",
    "    ),\n",
    "    data=[\n",
    "        DataDescriptor(\n",
    "            description=\"Iris flower dataset.\",\n",
    "            classification=DataClassification.UNCLASSIFIED,\n",
    "            access=\"None\",\n",
    "            labeling_method=\"by hand\",\n",
    "            fields=[\n",
    "                FieldDescriptor(\n",
    "                    name=\"Sepal length\",\n",
    "                    description=\"The length of the sepal.\",\n",
    "                    type=\"float\",\n",
    "                    expected_values=\"N/A\",\n",
    "                    missing_values=\"N/A\",\n",
    "                    special_values=\"N/A\",\n",
    "                )\n",
    "            ],\n",
    "            labels=[\n",
    "                LabelDescriptor(description=\"Setosa\", percentage=30.0),\n",
    "                LabelDescriptor(description=\"Versicolour\", percentage=30.0),\n",
    "                LabelDescriptor(description=\"Virginica\", percentage=40.0),\n",
    "            ],\n",
    "            policies=\"N/A\",\n",
    "            rights=\"N/A\",\n",
    "            source=\"https://archive.ics.uci.edu/dataset/53/iris\",\n",
    "        )\n",
    "    ],\n",
    "    model=ModelDescriptor(\n",
    "        development_compute_resources=ModelResourcesDescriptor(\n",
    "            cpu=\"1\", gpu=\"0\", memory=\"6MiB\", storage=\"2KiB\"\n",
    "        ),\n",
    "        deployment_platform=\"local server\",\n",
    "        capability_deployment_mechanism=\"API\",\n",
    "        model_source=\"In house\",\n",
    "        input_specification=[\n",
    "            ModelIODescriptor(\n",
    "                name=\"i1\", description=\"description\", type=\"Vector[150]\"\n",
    "            )\n",
    "        ],\n",
    "        output_specification=[\n",
    "            ModelIODescriptor(\n",
    "                name=\"o1\", description=\"description\", type=\"Vector[3]\"\n",
    "            )\n",
    "        ],\n",
    "        production_compute_resources=ModelResourcesDescriptor(\n",
    "            cpu=\"1\",\n",
    "            gpu=\"0\",\n",
    "            memory=\"6MiB\",\n",
    "            storage=\"2KiB\",\n",
    "        ),\n",
    "    ),\n",
    "    quality_scenarios=[\n",
    "        QASDescriptor(\n",
    "            quality=\"Accuracy\",\n",
    "            stimulus=\"The model receives a picture taken at the garden\",\n",
    "            source=\"the flower identification application\",\n",
    "            environment=\"normal operations\",\n",
    "            response=\"The model returns proper results\",\n",
    "            measure=\"with an accuracy of 98%\",\n",
    "        ),\n",
    "        QASDescriptor(\n",
    "            quality=\"Accuracy\",\n",
    "            stimulus=\"The model receives a picture taken at the garden\",\n",
    "            source=\"the flower identification application\",\n",
    "            environment=\"normal operations\",\n",
    "            response=\"The model returns proper results\",\n",
    "            measure=\"with misclassification less than 2\",\n",
    "        ),\n",
    "        QASDescriptor(\n",
    "            quality=\"Accuracy\",\n",
    "            stimulus=\"The model receives a picture taken at the garden\",\n",
    "            source=\"the flower identification application\",\n",
    "            environment=\"normal operations\",\n",
    "            response=\"The model returns proper results\",\n",
    "            measure=\"with a proper distribution\",\n",
    "        ),\n",
    "        QASDescriptor(\n",
    "            quality=\"Resource Usage\",\n",
    "            stimulus=\"The model is being trained\",\n",
    "            source=\"by model developers\",\n",
    "            environment=\"development time\",\n",
    "            response=\"The model is properly trained\",\n",
    "            measure=\"and requires less than 3 MB of storage.\",\n",
    "        ),\n",
    "        QASDescriptor(\n",
    "            quality=\"Resource Usage\",\n",
    "            stimulus=\"The model is being trained\",\n",
    "            source=\"by model developers\",\n",
    "            environment=\"development time\",\n",
    "            response=\"The model is properly trained\",\n",
    "            measure=\"without using more than 60 MB of memory\",\n",
    "        ),\n",
    "        QASDescriptor(\n",
    "            quality=\"Resource Usage\",\n",
    "            stimulus=\"The model is being trained\",\n",
    "            source=\"by model developers\",\n",
    "            environment=\"development time\",\n",
    "            response=\"The model is properly trained\",\n",
    "            measure=\"without using more than 5% of CPU\",\n",
    "        ),\n",
    "    ],\n",
    ")\n",
    "card.save(force=True, parents=True)"
   ]
  }
 ],
 "metadata": {
  "kernelspec": {
   "display_name": ".venv",
   "language": "python",
   "name": "python3"
  },
  "language_info": {
   "codemirror_mode": {
    "name": "ipython",
    "version": 3
   },
   "file_extension": ".py",
   "mimetype": "text/x-python",
   "name": "python",
   "nbconvert_exporter": "python",
   "pygments_lexer": "ipython3",
   "version": "3.10.16"
  },
  "orig_nbformat": 4
 },
 "nbformat": 4,
 "nbformat_minor": 2
}
