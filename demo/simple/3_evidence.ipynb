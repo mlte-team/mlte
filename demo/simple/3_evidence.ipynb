{
 "cells": [
  {
   "attachments": {},
   "cell_type": "markdown",
   "metadata": {},
   "source": [
    "## 3. Collect Evidence\n",
    "\n",
    "In the third phase of SDMT, we collect _evidence_ to attest to the fact that the model realized the QA categories specified in the previous phase.\n",
    "\n",
    "We already defined `Measurement`s in the `TestSuite` specification to generate this evidence. Each individual piece of data is an `Evidence`. Once `Evidence`s are produced, we can persist them to an _artifact store_ to maintain our evidence across sessions. "
   ]
  },
  {
   "attachments": {},
   "cell_type": "markdown",
   "metadata": {},
   "source": [
    "#### Initialize MLTE Context\n",
    "\n",
    "MLTE contains a global context that manages the currently active _session_. Initializing the context tells MLTE how to store all of the artifacts that it produces."
   ]
  },
  {
   "cell_type": "code",
   "execution_count": null,
   "metadata": {},
   "outputs": [],
   "source": [
    "import os\n",
    "\n",
    "from mlte.session import set_context, set_store\n",
    "\n",
    "store_path = os.path.join(os.getcwd(), \"store\")\n",
    "\n",
    "set_context(\"IrisClassifier\", \"0.0.1\")\n",
    "set_store(f\"local://{store_path}\")"
   ]
  },
  {
   "cell_type": "markdown",
   "metadata": {},
   "source": [
    "We now prepare our model to run our tests. This is done only once, to create and run the model, and have the data ready for running the tests. This information could also be loaded from a previous model run instead."
   ]
  },
  {
   "cell_type": "code",
   "execution_count": null,
   "metadata": {},
   "outputs": [],
   "source": [
    "from demo.simple import measurements\n",
    "\n",
    "# Define command that can be used to run the model in training mode.\n",
    "model_train_command = measurements.TRAIN_CMD\n",
    "\n",
    "# First set up and store the sample model, and run a prediction on our default input data.\n",
    "model_path = measurements.create_model()\n",
    "y_test, y_pred = measurements.predict(model_path)"
   ]
  },
  {
   "cell_type": "markdown",
   "metadata": {},
   "source": [
    "We now load the `TestSuite`, set up the inputs for each `TestCase`, and run all measurements on all `TestCases` with the corresponding inputs. The resulting `Evidence` is then stored."
   ]
  },
  {
   "cell_type": "code",
   "execution_count": null,
   "metadata": {},
   "outputs": [],
   "source": [
    "from typing import Any\n",
    "\n",
    "from mlte.measurement.units import Units\n",
    "from mlte.tests.test_suite import TestSuite\n",
    "\n",
    "# Define test case inputs.\n",
    "test_inputs: dict[str, list[Any]] = {\n",
    "    \"accuracy\": [y_test, y_pred],\n",
    "    \"confusion matrix\": [y_test, y_pred],\n",
    "    \"class distribution\": [y_pred],\n",
    "    \"model size\": [model_path, Units.kilobyte],\n",
    "    \"training memory\": [model_train_command, Units.megabyte],\n",
    "    \"training cpu\": [model_train_command],\n",
    "}\n",
    "\n",
    "# Load the TestSuite, and run measurements on all cases with the given inputs.\n",
    "test_suite = TestSuite.load()\n",
    "evidences = test_suite.run_measurements(test_inputs)\n",
    "\n",
    "# Save all evidence to the store.\n",
    "for evidence in evidences:\n",
    "    print(f\"> {evidence.identifier}: {evidence}\")\n",
    "    evidence.save(force=True)"
   ]
  }
 ],
 "metadata": {
  "kernelspec": {
   "display_name": ".venv",
   "language": "python",
   "name": "python3"
  },
  "language_info": {
   "codemirror_mode": {
    "name": "ipython",
    "version": 3
   },
   "file_extension": ".py",
   "mimetype": "text/x-python",
   "name": "python",
   "nbconvert_exporter": "python",
   "pygments_lexer": "ipython3",
   "version": "3.12.8"
  },
  "orig_nbformat": 4
 },
 "nbformat": 4,
 "nbformat_minor": 2
}
