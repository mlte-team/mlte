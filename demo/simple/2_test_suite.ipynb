{
 "cells": [
  {
   "attachments": {},
   "cell_type": "markdown",
   "metadata": {},
   "source": [
    "## 2. Define a TestSuite\n",
    "\n",
    "In the second phase of SDMT, we define a `TestSuite` that represents the tests the completed model must will have to pass in order to be acceptable for use in the system into which it will be integrated."
   ]
  },
  {
   "attachments": {},
   "cell_type": "markdown",
   "metadata": {},
   "source": [
    "#### Initialize MLTE Context\n",
    "\n",
    "MLTE contains a global context that manages the currently active _session_. Initializing the context tells MLTE how to store all of the artifacts that it produces."
   ]
  },
  {
   "cell_type": "code",
   "execution_count": null,
   "metadata": {},
   "outputs": [],
   "source": [
    "import os\n",
    "from mlte.session import set_context, set_store\n",
    "\n",
    "store_path = os.path.join(os.getcwd(), \"store\")\n",
    "os.makedirs(\n",
    "    store_path, exist_ok=True\n",
    ")  # Ensure we are creating the folder if it is not there.\n",
    "\n",
    "set_context(\"IrisClassifier\", \"0.0.1\")\n",
    "set_store(f\"local://{store_path}\")"
   ]
  },
  {
   "attachments": {},
   "cell_type": "markdown",
   "metadata": {},
   "source": [
    "#### Build a `TestSuite`\n",
    "\n",
    "In MLTE, we define the tests that will be required for the different requirements in a `TestSuite`. Note that a new `Evidence` types (`ConfusionMatrix`) was created in this case to simplify the definition the `Validator` for that case."
   ]
  },
  {
   "cell_type": "code",
   "execution_count": null,
   "metadata": {},
   "outputs": [],
   "source": [
    "from mlte.tests.test_case import TestCase\n",
    "from mlte.tests.test_suite import TestSuite\n",
    "\n",
    "from mlte.measurement.storage import LocalObjectSize\n",
    "from mlte.measurement.cpu import LocalProcessCPUUtilization\n",
    "from mlte.measurement.memory import LocalProcessMemoryConsumption\n",
    "from confusion_matrix import ConfusionMatrix\n",
    "from mlte.evidence.types.real import Real\n",
    "from mlte.evidence.types.image import Image\n",
    "\n",
    "spec = TestSuite(\n",
    "    test_cases=[\n",
    "        TestCase(\n",
    "            identifier=\"accuracy\",\n",
    "            goal=\"Understand if the model is useful for this case\",\n",
    "            qas_list=[\"qas1\"],\n",
    "            validator=Real.greater_or_equal_to(0.98),\n",
    "        ),\n",
    "        TestCase(\n",
    "            identifier=\"confusion matrix\",\n",
    "            goal=\"Understand if the model is useful for this case\",\n",
    "            qas_list=[\"qas2\"],\n",
    "            validator=ConfusionMatrix.misclassification_count_less_than(2),\n",
    "        ),\n",
    "        TestCase(\n",
    "            identifier=\"class distribution\",\n",
    "            goal=\"Understand if the model is useful for this case\",\n",
    "            qas_list=[\"qas3\"],\n",
    "            validator=Image.register_info(\"Inspect the image.\"),\n",
    "        ),\n",
    "        TestCase(\n",
    "            identifier=\"model size\",\n",
    "            goal=\"Check resource consumption\",\n",
    "            qas_list=[\"qas4\"],\n",
    "            validator=LocalObjectSize.get_output_type().less_than(3000),\n",
    "        ),\n",
    "        TestCase(\n",
    "            identifier=\"training memory\",\n",
    "            goal=\"Check resource consumption\",\n",
    "            qas_list=[\"qas4\"],\n",
    "            validator=LocalProcessMemoryConsumption.get_output_type().average_consumption_less_than(\n",
    "                60000\n",
    "            ),\n",
    "        ),\n",
    "        TestCase(\n",
    "            identifier=\"training cpu\",\n",
    "            goal=\"Check resource consumption\",\n",
    "            qas_list=[\"qas4\"],\n",
    "            validator=LocalProcessCPUUtilization.get_output_type().max_utilization_less_than(\n",
    "                5.0\n",
    "            ),\n",
    "        ),\n",
    "    ]\n",
    ")\n",
    "spec.save(parents=True, force=True)"
   ]
  }
 ],
 "metadata": {
  "kernelspec": {
   "display_name": ".venv",
   "language": "python",
   "name": "python3"
  },
  "language_info": {
   "codemirror_mode": {
    "name": "ipython",
    "version": 3
   },
   "file_extension": ".py",
   "mimetype": "text/x-python",
   "name": "python",
   "nbconvert_exporter": "python",
   "pygments_lexer": "ipython3",
   "version": "3.12.8"
  },
  "orig_nbformat": 4
 },
 "nbformat": 4,
 "nbformat_minor": 2
}
