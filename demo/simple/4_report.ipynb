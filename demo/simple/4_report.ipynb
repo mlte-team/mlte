{
 "cells": [
  {
   "attachments": {},
   "cell_type": "markdown",
   "metadata": {},
   "source": [
    "## 4. Report Generation\n",
    "\n",
    "The final phase of SDMT involves aggregating evidence, validating the metrics reflected by the evidence we collected, and displaying this information in a report."
   ]
  },
  {
   "attachments": {},
   "cell_type": "markdown",
   "metadata": {},
   "source": [
    "#### Initialize MLTE Context\n",
    "\n",
    "MLTE contains a global context that manages the currently active _session_. Initializing the context tells MLTE how to store all of the artifacts that it produces."
   ]
  },
  {
   "cell_type": "code",
   "execution_count": 2,
   "metadata": {},
   "outputs": [
    {
     "name": "stdout",
     "output_type": "stream",
     "text": [
      "Creating initial custom lists at URI: local:///Users/rbrowersinning/Documents/ResearchFolders/Continuum_LTP/GitRepos/mlte/demo/simple/store\n",
      "Loaded 8 qa_categories for initial list\n",
      "Loaded 14 quality_attributes for initial list\n"
     ]
    }
   ],
   "source": [
    "import os\n",
    "\n",
    "from mlte.session import set_context, set_store\n",
    "\n",
    "store_path = os.path.join(os.getcwd(), \"store\")\n",
    "\n",
    "set_context(\"IrisClassifier\", \"0.0.1\")\n",
    "set_store(f\"local://{store_path}\")"
   ]
  },
  {
   "attachments": {},
   "cell_type": "markdown",
   "metadata": {},
   "source": [
    "### Validate `Evidence` and get an updated `TestResults` with `Result`s"
   ]
  },
  {
   "attachments": {},
   "cell_type": "markdown",
   "metadata": {},
   "source": [
    "Now that we have our `TestSuite` ready and we have enough evidence, we create a `TestSuiteValidator` with our TestSuite, and add all the `Evidence`s we have. With that we can validate our test cases and generate an output `TestResults`, with the validation results."
   ]
  },
  {
   "cell_type": "code",
   "execution_count": 3,
   "metadata": {},
   "outputs": [
    {
     "name": "stdout",
     "output_type": "stream",
     "text": [
      " > Test Case: accuracy, result: Success, details: Real magnitude is greater than or equal to threshold 0.98 - values: [\"1.0\"]\n",
      " > Test Case: confusion matrix, result: Success, details: Misclass count is less than threshold 2 - values: [\"[[10  0  0],  [ 0 13  0],  [ 0  0  7]]\"]\n",
      " > Test Case: class distribution, result: Info, details: Visual inspection is required to confirm that distribution is above 1.2%.\n",
      " > Test Case: model size, result: Success, details: Real magnitude is less than threshold 3.0 megabyte - values: [\"2.471 kilobyte\"]\n",
      " > Test Case: training memory, result: Failure, details: Average consumption exceeds threshold 60 megabyte - values: [\"Average: 85.684 megabyte\\nMinimum: 0.032 megabyte\\nMaximum: 154.32 megabyte\"]\n",
      " > Test Case: training cpu, result: Success, details: Maximum utilization below threshold 5.00 percent - values: [\"Average: 1.52 percent\\nMinimum: 0.00 percent\\nMaximum: 3.56 percent\"]\n"
     ]
    }
   ],
   "source": [
    "from mlte.validation.test_suite_validator import TestSuiteValidator\n",
    "\n",
    "# Load validator for default TestSuite id\n",
    "test_suite_validator = TestSuiteValidator()\n",
    "\n",
    "# Load all Evidence and validate TestCases\n",
    "test_results = test_suite_validator.load_and_validate()\n",
    "\n",
    "# We want to see the validation results in the Notebook, regardless of them being saved.\n",
    "test_results.print_results()\n",
    "\n",
    "# TestResults also supports persistence\n",
    "test_results.save(force=True)"
   ]
  },
  {
   "cell_type": "markdown",
   "metadata": {},
   "source": [
    "If we want to, we can review test results that could not be automatically validated and require human supervision, and decide whether they pass or not."
   ]
  },
  {
   "cell_type": "code",
   "execution_count": 4,
   "metadata": {},
   "outputs": [
    {
     "name": "stdout",
     "output_type": "stream",
     "text": [
      " > Test Case: class distribution, result: Info, details: Visual inspection is required to confirm that distribution is above 1.2%.\n"
     ]
    }
   ],
   "source": [
    "# Show the results that have been marked as informational that could not be validated.\n",
    "test_results.print_results(result_type=\"Info\")"
   ]
  },
  {
   "cell_type": "code",
   "execution_count": 5,
   "metadata": {},
   "outputs": [
    {
     "data": {
      "image/png": "[encoded data removed]",
      "text/plain": [
       "<IPython.core.display.Image object>"
      ]
     },
     "metadata": {},
     "output_type": "display_data"
    }
   ],
   "source": [
    "# Review the evidence we have for this case.\n",
    "from IPython import display\n",
    "from mlte.evidence.types.image import Image\n",
    "\n",
    "case_id = \"evidence.class distribution\"\n",
    "case_image = Image.load(case_id)\n",
    "display.display(display.Image(data=case_image.image))"
   ]
  },
  {
   "cell_type": "markdown",
   "metadata": {},
   "source": [
    "Assuming we decided visually that it passed the expectations, we can mark it as such."
   ]
  },
  {
   "cell_type": "code",
   "execution_count": 6,
   "metadata": {},
   "outputs": [
    {
     "name": "stdout",
     "output_type": "stream",
     "text": [
      " > Test Case: accuracy, result: Success, details: Real magnitude is greater than or equal to threshold 0.98 - values: [\"1.0\"]\n",
      " > Test Case: confusion matrix, result: Success, details: Misclass count is less than threshold 2 - values: [\"[[10  0  0],  [ 0 13  0],  [ 0  0  7]]\"]\n",
      " > Test Case: class distribution, result: Success, details: Manually validated: Visual inspection confirms distribution is above 1.2% (original message: Visual inspection is required to confirm that distribution is above 1.2%.)\n",
      " > Test Case: model size, result: Success, details: Real magnitude is less than threshold 3.0 megabyte - values: [\"2.471 kilobyte\"]\n",
      " > Test Case: training memory, result: Failure, details: Average consumption exceeds threshold 60 megabyte - values: [\"Average: 85.684 megabyte\\nMinimum: 0.032 megabyte\\nMaximum: 154.32 megabyte\"]\n",
      " > Test Case: training cpu, result: Success, details: Maximum utilization below threshold 5.00 percent - values: [\"Average: 1.52 percent\\nMinimum: 0.00 percent\\nMaximum: 3.56 percent\"]\n"
     ]
    }
   ],
   "source": [
    "from mlte.results.result import Success\n",
    "\n",
    "test_results.convert_result(\n",
    "    test_case_id=\"class distribution\",\n",
    "    result_type=Success,\n",
    "    message=\"Visual inspection confirms distribution is above 1.2%\",\n",
    ")\n",
    "\n",
    "test_results.print_results()\n",
    "test_results.save(force=True)"
   ]
  },
  {
   "attachments": {},
   "cell_type": "markdown",
   "metadata": {},
   "source": [
    "#### Generate a Report\n",
    "\n",
    "The final step of SDMT involves the generation of a report to communicate the results of model evaluation."
   ]
  },
  {
   "cell_type": "code",
   "execution_count": 7,
   "metadata": {},
   "outputs": [],
   "source": [
    "from mlte.report.artifact import (\n",
    "    Report,\n",
    "    CommentDescriptor,\n",
    ")\n",
    "\n",
    "# Create a report with the default NegotiationCard, TestSuite and TestResults in this store.\n",
    "report = Report(\n",
    "    comments=[\n",
    "        CommentDescriptor(\n",
    "            content=\"This model should not be used for nefarious purposes.\"\n",
    "        )\n",
    "    ],\n",
    ")\n",
    "\n",
    "report.save(force=True, parents=True)"
   ]
  },
  {
   "cell_type": "code",
   "execution_count": null,
   "metadata": {},
   "outputs": [],
   "source": []
  }
 ],
 "metadata": {
  "kernelspec": {
   "display_name": "Python 3 (ipykernel)",
   "language": "python",
   "name": "python3"
  },
  "language_info": {
   "codemirror_mode": {
    "name": "ipython",
    "version": 3
   },
   "file_extension": ".py",
   "mimetype": "text/x-python",
   "name": "python",
   "nbconvert_exporter": "python",
   "pygments_lexer": "ipython3",
   "version": "3.11.13"
  }
 },
 "nbformat": 4,
 "nbformat_minor": 4
}
