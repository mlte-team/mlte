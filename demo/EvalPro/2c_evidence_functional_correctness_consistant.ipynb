{
 "cells": [
  {
   "cell_type": "markdown",
   "id": "8748f9ee-b78e-48ec-8258-5ae360207fe0",
   "metadata": {},
   "source": [
    "## 2c. Evidence - Functional Correctness QAS Measurements\n",
    "\n",
    "Evidence collected in this section checks for the secound functional correctness QAS scenario defined in the previous step. Note that some functions and data will be loaded from external Python files."
   ]
  },
  {
   "cell_type": "markdown",
   "id": "91411578-5288-462d-8087-927519402a9c",
   "metadata": {},
   "source": [
    "### Initialize MLTE Context\n",
    "\n",
    "MLTE contains a global context that manages the currently active _session_. Initializing the context tells MLTE how to store all of the artifacts that it produces. This import will also set up global constants related to folders and model to use."
   ]
  },
  {
   "cell_type": "code",
   "execution_count": null,
   "id": "65aa9601-2f78-44cb-9be4-a68641cfd607",
   "metadata": {},
   "outputs": [],
   "source": [
    "# Sets up context for the model being used, sets up constants related to folders and model data to be used.\n",
    "from session import *\n",
    "from session_LLMinfo import *"
   ]
  },
  {
   "cell_type": "markdown",
   "id": "1ff99af6-f18d-4c76-a67c-3fcedf010ae4",
   "metadata": {},
   "source": [
    "### Set up scenario test case"
   ]
  },
  {
   "cell_type": "code",
   "execution_count": null,
   "id": "4063e2ad-e2d5-4f16-bdb3-fe9e5697c0b2",
   "metadata": {},
   "outputs": [],
   "source": [
    "from mlte.negotiation.artifact import NegotiationCard\n",
    "\n",
    "card = NegotiationCard.load()\n",
    "qa = 2\n",
    "print(card.quality_scenarios[qa].identifier)\n",
    "print(card.quality_scenarios[qa].quality)\n",
    "print(\n",
    "    card.quality_scenarios[qa].stimulus,\n",
    "    \"from \",\n",
    "    card.quality_scenarios[qa].source,\n",
    "    \" during \",\n",
    "    card.quality_scenarios[qa].environment,\n",
    "    \". \",\n",
    "    card.quality_scenarios[qa].response,\n",
    "    card.quality_scenarios[qa].measure,\n",
    ")"
   ]
  },
  {
   "cell_type": "markdown",
   "id": "b5969115-035f-4d14-9622-8636c3ce07d1",
   "metadata": {},
   "source": [
    "### A Specific test case generated from the scenario:\n",
    "\n",
    "**Data and Data Source:**\tThe LLM receives a prompt, containing the employee goals, employee statement, and manager notes, for an employee evaluation and performance score. The original test data set can be used to simulate this request.\n",
    "\n",
    "**Measurement and Condition:**\tThe LLM generated scores will be self consistent, and when rounding, the average of the sub-category scores will match the overall score for 95% samples.\n",
    "\n",
    "**Context:**\tNormal Operation"
   ]
  },
  {
   "cell_type": "markdown",
   "id": "03829d9d-a1d1-4233-a043-f8461abd4d72",
   "metadata": {},
   "source": [
    "### Gather evidence"
   ]
  },
  {
   "cell_type": "code",
   "execution_count": null,
   "id": "eceb18f1-57dd-4590-90ee-0581cf5d322c",
   "metadata": {},
   "outputs": [],
   "source": [
    "# import necessary packages\n",
    "import pandas as pd"
   ]
  },
  {
   "cell_type": "code",
   "execution_count": null,
   "id": "3ad05a5a-82fd-4c25-9f57-cdbf1d0ebb8d",
   "metadata": {},
   "outputs": [],
   "source": [
    "# Read the files with with the necessary input data and LLM evaluation results\n",
    "input_df = pd.read_csv(\n",
    "    os.path.join(DATASETS_DIR, \"5abc_llm_input_functional_correctness.csv\")\n",
    ")\n",
    "results_df = pd.read_csv(\n",
    "    os.path.join(DATASETS_DIR, \"5abc_llm_output_functional_correctness.csv\")\n",
    ")\n",
    "results_df.drop(columns=[\"Unnamed: 0\"], inplace=True)\n",
    "\n",
    "# Preview the cleaned dataframe\n",
    "print(input_df.columns)\n",
    "print(results_df.columns)"
   ]
  },
  {
   "cell_type": "markdown",
   "id": "da127daa-42a2-4a08-bf47-315834aba5f2",
   "metadata": {},
   "source": [
    "### Save evidence to the specified scenario"
   ]
  },
  {
   "cell_type": "code",
   "execution_count": null,
   "id": "3a9a2464-4692-43f6-b8c3-85d4aceab13c",
   "metadata": {},
   "outputs": [],
   "source": [
    "# show percentage of incorrect results\n",
    "def evaluate_inconsistent_pcent(results_df):\n",
    "    mismatches = (\n",
    "        results_df[\"averageScore\"] != results_df[\"extractedOverallRating\"]\n",
    "    )\n",
    "    print(mismatches)\n",
    "    mismatch_count = mismatches.sum()\n",
    "    data_size = len(results_df)\n",
    "    mismatch_val = mismatch_count / data_size  # * 100\n",
    "    return float(mismatch_val)\n",
    "\n",
    "\n",
    "mismatch_val = evaluate_inconsistent_pcent(results_df)\n",
    "print(mismatch_val)\n",
    "if mismatch_val < 0.05:\n",
    "    print(f\"test passes with {mismatch_val} failures\")\n",
    "else:\n",
    "    print(f\"test fails with {mismatch_val} failures\")"
   ]
  },
  {
   "cell_type": "code",
   "execution_count": null,
   "id": "87571587-39db-4fc2-af87-0c8392cdc521",
   "metadata": {},
   "outputs": [],
   "source": [
    "from mlte.evidence.types.real import Real\n",
    "from mlte.measurement.external_measurement import ExternalMeasurement\n",
    "\n",
    "# Evaluate accuracy, identifier has to be the same one defined in the TestSuite.\n",
    "mismatch_measurement = ExternalMeasurement(\n",
    "    \"eval is consistent\", Real, evaluate_inconsistent_pcent\n",
    ")\n",
    "mismatch_pcent = mismatch_measurement.evaluate(testing_df)\n",
    "\n",
    "# Inspect value\n",
    "print(mismatch_pcent)\n",
    "\n",
    "# Save to artifact store\n",
    "mismatch_pcent.save(force=True)"
   ]
  },
  {
   "cell_type": "code",
   "execution_count": null,
   "id": "5dc55a3b-7309-4ea7-9e73-67d4080d7e07",
   "metadata": {},
   "outputs": [],
   "source": []
  }
 ],
 "metadata": {
  "kernelspec": {
   "display_name": ".venv",
   "language": "python",
   "name": "python3"
  },
  "language_info": {
   "codemirror_mode": {
    "name": "ipython",
    "version": 3
   },
   "file_extension": ".py",
   "mimetype": "text/x-python",
   "name": "python",
   "nbconvert_exporter": "python",
   "pygments_lexer": "ipython3",
   "version": "3.12.11"
  }
 },
 "nbformat": 4,
 "nbformat_minor": 5
}
