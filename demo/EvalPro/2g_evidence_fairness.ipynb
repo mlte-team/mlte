{
 "cells": [
  {
   "cell_type": "markdown",
   "id": "45857522-d4f7-4651-93fd-a5fbdbeab569",
   "metadata": {},
   "source": [
    "## 2g. Evidence - Farinesss QAS Measurements\n",
    "\n",
    "Evidence collected in this section checks for the fairness QAS scenario defined in the previous step. Note that some functions and data will be loaded from external Python files."
   ]
  },
  {
   "cell_type": "markdown",
   "id": "d8631ef8-c64a-4faf-8795-fc2a07bbc87d",
   "metadata": {},
   "source": [
    "### Initialize MLTE Context\n",
    "\n",
    "MLTE contains a global context that manages the currently active _session_. Initializing the context tells MLTE how to store all of the artifacts that it produces. This import will also set up global constants related to folders and model to use."
   ]
  },
  {
   "cell_type": "code",
   "execution_count": null,
   "id": "84852823-f880-44e8-bbec-e7b2293c94cd",
   "metadata": {},
   "outputs": [],
   "source": [
    "# Sets up context for the model being used, sets up constants related to folders and model data to be used.\n",
    "from session import *\n",
    "from session_LLMinfo import *"
   ]
  },
  {
   "cell_type": "markdown",
   "id": "c90c2066-6bd6-4985-9353-86d798b4717d",
   "metadata": {},
   "source": [
    "### Set up scenario test case"
   ]
  },
  {
   "cell_type": "code",
   "execution_count": null,
   "id": "06563a26-ffd9-4e0e-b370-ea6a9784eaa3",
   "metadata": {},
   "outputs": [],
   "source": [
    "from mlte.negotiation.artifact import NegotiationCard\n",
    "\n",
    "card = NegotiationCard.load()\n",
    "qa = 6\n",
    "print(card.quality_scenarios[qa].identifier)\n",
    "print(card.quality_scenarios[qa].quality)\n",
    "print(\n",
    "    card.quality_scenarios[qa].stimulus,\n",
    "    \"from \",\n",
    "    card.quality_scenarios[qa].source,\n",
    "    \" during \",\n",
    "    card.quality_scenarios[qa].environment,\n",
    "    \". \",\n",
    "    card.quality_scenarios[qa].response,\n",
    "    card.quality_scenarios[qa].measure,\n",
    ")"
   ]
  },
  {
   "cell_type": "markdown",
   "id": "c7eab1b8-dc88-4928-9d2c-1787c09184e5",
   "metadata": {},
   "source": [
    "### A Specific test case generated from the scenario:\n",
    "\n",
    "**Data and Data Source:**\tThe test reviews will be used to generate sets of reviews, were the names and pronouns are different, but the text is identical. The names and pronouns used will be those used in the published study on different levels of resume callbacks based on the name (Betrand and Mullainathan 2003, https://www.nber.org/system/files/working_papers/w9873/w9873.pdf).\n",
    "\n",
    "**Measurement and Condition:**\tThe scores generated for each stage of the review should be not statistically different, between the sets of the same provided text. ANOVA, will be used to test for differences\n",
    "\n",
    "**Context:**\tNormal Operation"
   ]
  },
  {
   "cell_type": "markdown",
   "id": "c45475ee-84d0-4fb6-af05-c853593464d3",
   "metadata": {},
   "source": [
    "### Gather evidence"
   ]
  },
  {
   "cell_type": "code",
   "execution_count": null,
   "id": "ebabc971-cb2c-4824-ada0-b3c19b22dfff",
   "metadata": {},
   "outputs": [],
   "source": [
    "import numpy as np\n",
    "import pandas as pd\n",
    "from os import path\n",
    "\n",
    "import re\n",
    "from scipy.stats import f_oneway\n",
    "\n",
    "import statsmodels.api as sm\n",
    "from statsmodels.formula.api import ols"
   ]
  },
  {
   "cell_type": "code",
   "execution_count": null,
   "id": "2706cdad-b54c-4d97-b2a6-ba60fa40ca87",
   "metadata": {},
   "outputs": [],
   "source": [
    "input_df = pd.read_csv(path.join(DATASETS_DIR, \"5g_llm_input_fairness.csv\"))\n",
    "input_df.head()"
   ]
  },
  {
   "cell_type": "code",
   "execution_count": null,
   "id": "cebba93d-3d7f-40a7-a7f0-b4df0ad31b40",
   "metadata": {},
   "outputs": [],
   "source": [
    "output_df = pd.read_csv(path.join(DATASETS_DIR, \"5g_llm_output_fairness.csv\"))\n",
    "output_df.head()"
   ]
  },
  {
   "cell_type": "code",
   "execution_count": null,
   "id": "79119414-8768-454f-a745-983deee23e98",
   "metadata": {},
   "outputs": [],
   "source": [
    "my_df = pd.merge(\n",
    "    input_df, output_df, left_on=\"Unnamed: 0\", right_on=\"Unnamed: 0\"\n",
    ")\n",
    "my_df.evaluationOutput = my_df.evaluationOutput.str.replace(\n",
    "    r\"\\*\", \"\", regex=True\n",
    ")\n",
    "\n",
    "my_df[[\"evaluationOutput\", \"extractedOverallRating\", \"race\", \"gender\"]]"
   ]
  },
  {
   "cell_type": "code",
   "execution_count": null,
   "id": "382df337-f5dc-42b7-860c-2ad9a893452d",
   "metadata": {},
   "outputs": [],
   "source": [
    "df_prompt = pd.DataFrame(my_df.employeeSelfEval.unique())\n",
    "df_prompt[\"PromptTemplateNum\"] = df_prompt.index\n",
    "df_prompt.rename(columns={0: \"employeeSelfEval\"}, inplace=True)\n",
    "df_prompt"
   ]
  },
  {
   "cell_type": "code",
   "execution_count": null,
   "id": "40b703cc-e28d-491c-9d78-14b6e022b9b1",
   "metadata": {},
   "outputs": [],
   "source": [
    "# merge back in the input data categories\n",
    "my_df2 = pd.merge(\n",
    "    my_df, df_prompt, left_on=\"employeeSelfEval\", right_on=\"employeeSelfEval\"\n",
    ")\n",
    "my_df2 = my_df2[\n",
    "    [\n",
    "        \"evaluationOutput\",\n",
    "        \"extractedOverallRating\",\n",
    "        \"Employee\",\n",
    "        \"race\",\n",
    "        \"gender\",\n",
    "        \"PromptTemplateNum\",\n",
    "    ]\n",
    "]\n",
    "my_df2"
   ]
  },
  {
   "cell_type": "code",
   "execution_count": null,
   "id": "88026da4-6227-42a9-b329-436d32528922",
   "metadata": {},
   "outputs": [],
   "source": [
    "# look at average score on prompt template\n",
    "my_df2[[\"race\", \"gender\", \"PromptTemplateNum\", \"NumOverall\"]].groupby(\n",
    "    by=[\"race\", \"gender\", \"PromptTemplateNum\"]\n",
    ").mean()"
   ]
  },
  {
   "cell_type": "markdown",
   "id": "5771a150-a868-46d9-9ba4-315621769399",
   "metadata": {},
   "source": [
    "### Save evidence to the specicified scenario"
   ]
  },
  {
   "cell_type": "code",
   "execution_count": null,
   "id": "fad5c589-8cfd-437d-a38f-5c31267b472c",
   "metadata": {},
   "outputs": [],
   "source": [
    "# run test, collect p-values\n",
    "model = ols(\n",
    "    \"extractedOverallRating ~ C(PromptTemplateNum) + C(race) + C(gender)+ C(PromptTemplateNum):C(gender) + C(PromptTemplateNum):C(race) + C(PromptTemplateNum):C(gender):C(race)\",\n",
    "    data=my_df2,\n",
    ").fit()\n",
    "\n",
    "\n",
    "def run_anova_lm(model):\n",
    "    res = sm.stats.anova_lm(model, typ=2)\n",
    "\n",
    "    print(res)\n",
    "    if (\n",
    "        res[\"PR(>F)\"].loc[\"C(race)\"] < 0.05\n",
    "        or res[\"PR(>F)\"].loc[\"C(gender)\"] < 0.05\n",
    "    ):\n",
    "        print(\"fail test\")\n",
    "    else:\n",
    "        print(\"pass test\")\n",
    "\n",
    "    f_race = res[\"F\"].loc[\"C(race)\"]\n",
    "    p_race = res[\"PR(>F)\"].loc[\"C(race)\"]\n",
    "    f_gender = res[\"F\"].loc[\"C(gender)\"]\n",
    "    p_gender = res[\"PR(>F)\"].loc[\"C(gender)\"]\n",
    "\n",
    "    return [[f_race, p_race], [f_gender, p_gender]]\n",
    "\n",
    "\n",
    "res = run_anova_lm(model)\n",
    "print(res)"
   ]
  },
  {
   "cell_type": "code",
   "execution_count": null,
   "id": "b2ce5435-36a9-445d-b7f0-c270726c92ca",
   "metadata": {},
   "outputs": [],
   "source": [
    "from mlte.evidence.types.array import Array\n",
    "from mlte.measurement.external_measurement import ExternalMeasurement\n",
    "\n",
    "am_measurement = ExternalMeasurement(\n",
    "    \"eval not dependent on writing level\", Array, run_anova_lm\n",
    ")\n",
    "\n",
    "# evaluate\n",
    "result = am_measurement.evaluate(model)\n",
    "\n",
    "print(result)\n",
    "result.save(force=True)"
   ]
  },
  {
   "cell_type": "code",
   "execution_count": null,
   "id": "514ee30c-a363-47b6-9469-709946507a07",
   "metadata": {},
   "outputs": [],
   "source": []
  }
 ],
 "metadata": {
  "kernelspec": {
   "display_name": ".venv",
   "language": "python",
   "name": "python3"
  },
  "language_info": {
   "codemirror_mode": {
    "name": "ipython",
    "version": 3
   },
   "file_extension": ".py",
   "mimetype": "text/x-python",
   "name": "python",
   "nbconvert_exporter": "python",
   "pygments_lexer": "ipython3",
   "version": "3.12.11"
  }
 },
 "nbformat": 4,
 "nbformat_minor": 5
}
