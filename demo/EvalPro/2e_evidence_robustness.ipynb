{
 "cells": [
  {
   "cell_type": "markdown",
   "id": "e5ef19e9-f6d4-41bc-89ae-5b4c551399c0",
   "metadata": {},
   "source": [
    "## 2e. Evidence - Robustness QAS Measurements\n",
    "\n",
    "Evidence collected in this section checks for the robustness QAS scenario defined in the previous step. Note that some functions and data will be loaded from external Python files."
   ]
  },
  {
   "cell_type": "markdown",
   "id": "c8abab18-d9b0-4804-8fb7-4e91be206ee6",
   "metadata": {},
   "source": [
    "### Initialize MLTE Context\n",
    "\n",
    "MLTE contains a global context that manages the currently active _session_. Initializing the context tells MLTE how to store all of the artifacts that it produces. This import will also set up global constants related to folders and model to use."
   ]
  },
  {
   "cell_type": "code",
   "execution_count": null,
   "id": "ed8fd6ef-cbd3-4a7b-b8b1-49e403752a6f",
   "metadata": {},
   "outputs": [],
   "source": [
    "# Sets up context for the model being used, sets up constants related to folders and model data to be used.\n",
    "from session import *\n",
    "from session_LLMinfo import *"
   ]
  },
  {
   "cell_type": "markdown",
   "id": "af7f6dc9-d3c2-473c-9a18-98585f5a4c92",
   "metadata": {},
   "source": [
    "### Set up test case from scenario"
   ]
  },
  {
   "cell_type": "code",
   "execution_count": null,
   "id": "f37e7259-8122-45ac-a27f-eed191331573",
   "metadata": {},
   "outputs": [],
   "source": [
    "from mlte.negotiation.artifact import NegotiationCard\n",
    "\n",
    "card = NegotiationCard.load()\n",
    "qa = 4\n",
    "print(card.quality_scenarios[qa].identifier)\n",
    "print(card.quality_scenarios[qa].quality)\n",
    "print(\n",
    "    card.quality_scenarios[qa].stimulus,\n",
    "    \"from \",\n",
    "    card.quality_scenarios[qa].source,\n",
    "    \" during \",\n",
    "    card.quality_scenarios[qa].environment,\n",
    "    \". \",\n",
    "    card.quality_scenarios[qa].response,\n",
    "    card.quality_scenarios[qa].measure,\n",
    ")"
   ]
  },
  {
   "cell_type": "markdown",
   "id": "13f200ed-6240-402d-895d-2cdb49773551",
   "metadata": {},
   "source": [
    "### A Specific test case generated from the scenario:\n",
    "\n",
    "**Data and Data Source:**\tThe original test data set can be used. The test data will be augmented by altering entries by changing case, adding white space padding and removing punctuation.\n",
    "\n",
    "**Measurement and Condition:**\tThe LLM output will be analyzed to determine if the scores generated to the prompts series, which are different only by the removal or addition of whitespace and punction as detailed above, are the same 95% of the time.\n",
    "\n",
    "**Context:**\tNormal Operation"
   ]
  },
  {
   "cell_type": "markdown",
   "id": "be9cc58f-3e5a-4379-8bdb-1fa0108d1f8f",
   "metadata": {},
   "source": [
    "### Gather evidence"
   ]
  },
  {
   "cell_type": "code",
   "execution_count": null,
   "id": "c211f41c-7b1c-409a-ba8c-d10911186db4",
   "metadata": {},
   "outputs": [],
   "source": [
    "# import necessary packages\n",
    "import pandas as pd\n",
    "\n",
    "from evaluation_helpers import *"
   ]
  },
  {
   "cell_type": "code",
   "execution_count": null,
   "id": "edaa511a-14a5-4195-8d11-25b801b3d654",
   "metadata": {},
   "outputs": [],
   "source": [
    "# Read the files with with the necessary input data and LLM evaluation results\n",
    "input_df = pd.read_csv(\n",
    "    os.path.join(DATASETS_DIR, \"5e_llm_input_robustness.csv\")\n",
    ")\n",
    "response_df = pd.read_csv(\n",
    "    os.path.join(DATASETS_DIR, \"5e_llm_output_robustness.csv\")\n",
    ")\n",
    "response_df.drop(columns=[\"Unnamed: 0\"], inplace=True)\n",
    "input_df.drop(columns=[\"Unnamed: 0\"], inplace=True)\n",
    "\n",
    "response_df"
   ]
  },
  {
   "cell_type": "code",
   "execution_count": null,
   "id": "c1a374c4-4ebc-474b-93cd-665357e9dc86",
   "metadata": {},
   "outputs": [],
   "source": [
    "### Save evidence to the specicified scenario"
   ]
  },
  {
   "cell_type": "code",
   "execution_count": null,
   "id": "7f38dd6f-b12b-4817-beab-689f4077b958",
   "metadata": {},
   "outputs": [],
   "source": [
    "# evaluate if all results are the same\n",
    "def all_scores_equal(response_df):\n",
    "    mx = 0\n",
    "    for s in response_df.extractedOverallRating.unique():\n",
    "        n = len(response_df[response_df.extractedOverallRating == s])\n",
    "        if n > mx:\n",
    "            mx = n\n",
    "    max_val_pcent = mx / len(response_df)\n",
    "\n",
    "    return float(max_val_pcent)\n",
    "\n",
    "\n",
    "max_val_pcent = all_scores_equal(response_df)\n",
    "if max_val_pcent >= 0.95:\n",
    "    print(\n",
    "        f\"test passes with {max_val_pcent} of evaluation scores being the same\"\n",
    "    )\n",
    "else:\n",
    "    print(f\"test fails with only {max_val_pcent} being the same\")"
   ]
  },
  {
   "cell_type": "code",
   "execution_count": null,
   "id": "9aba340a-c966-4ee3-811f-a1df4392a99c",
   "metadata": {},
   "outputs": [],
   "source": [
    "from mlte.evidence.types.real import Real\n",
    "from mlte.measurement.external_measurement import ExternalMeasurement\n",
    "\n",
    "# Evaluate accuracy, identifier has to be the same one defined in the TestSuite.\n",
    "repeatable_measurement = ExternalMeasurement(\n",
    "    \"LLM is robsust to format\", Real, all_scores_equal\n",
    ")\n",
    "repeated_pcent = repeatable_measurement.evaluate(response_df)\n",
    "\n",
    "# Inspect value\n",
    "print(repeated_pcent)\n",
    "\n",
    "# Save to artifact store\n",
    "repeated_pcent.save(force=True)"
   ]
  },
  {
   "cell_type": "code",
   "execution_count": null,
   "id": "09b5431a-456b-44f7-bc87-a9922cb2f212",
   "metadata": {},
   "outputs": [],
   "source": []
  }
 ],
 "metadata": {
  "kernelspec": {
   "display_name": ".venv",
   "language": "python",
   "name": "python3"
  },
  "language_info": {
   "codemirror_mode": {
    "name": "ipython",
    "version": 3
   },
   "file_extension": ".py",
   "mimetype": "text/x-python",
   "name": "python",
   "nbconvert_exporter": "python",
   "pygments_lexer": "ipython3",
   "version": "3.12.11"
  }
 },
 "nbformat": 4,
 "nbformat_minor": 5
}
