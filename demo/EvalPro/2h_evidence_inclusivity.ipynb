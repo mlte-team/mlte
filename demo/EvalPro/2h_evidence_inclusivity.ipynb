{
 "cells": [
  {
   "cell_type": "markdown",
   "id": "2bc4862b-b6ec-4790-a5f8-3d3b3fad6fd9",
   "metadata": {},
   "source": [
    "## 2g. Evidence - Inclusivity QAS Measurements\n",
    "\n",
    "Evidence collected in this section checks for the inclusivity QAS scenario defined in the previous step. Note that some functions and data will be loaded from external Python files."
   ]
  },
  {
   "cell_type": "markdown",
   "id": "fbeb7f9a-8865-4865-8d84-7476ec3cf743",
   "metadata": {},
   "source": [
    "### Initialize MLTE Context\n",
    "\n",
    "MLTE contains a global context that manages the currently active _session_. Initializing the context tells MLTE how to store all of the artifacts that it produces. This import will also set up global constants related to folders and model to use."
   ]
  },
  {
   "cell_type": "code",
   "execution_count": null,
   "id": "1d157ef8-053a-4ae3-8863-88fbfc7537d2",
   "metadata": {},
   "outputs": [],
   "source": [
    "# Sets up context for the model being used, sets up constants related to folders and model data to be used.\n",
    "from session import *\n",
    "from session_LLMinfo import *"
   ]
  },
  {
   "cell_type": "markdown",
   "id": "9babde64-887a-463d-a29c-5ae4c57240c0",
   "metadata": {},
   "source": [
    "### Set up scenario test case"
   ]
  },
  {
   "cell_type": "code",
   "execution_count": null,
   "id": "92747b72-7ef5-4cae-ab77-29fc1050d10f",
   "metadata": {},
   "outputs": [],
   "source": [
    "from mlte.negotiation.artifact import NegotiationCard\n",
    "\n",
    "card = NegotiationCard.load()\n",
    "qa = 7\n",
    "print(card.quality_scenarios[qa].identifier)\n",
    "print(card.quality_scenarios[qa].quality)\n",
    "print(\n",
    "    card.quality_scenarios[qa].stimulus,\n",
    "    \"from \",\n",
    "    card.quality_scenarios[qa].source,\n",
    "    \" during \",\n",
    "    card.quality_scenarios[qa].environment,\n",
    "    \". \",\n",
    "    card.quality_scenarios[qa].response,\n",
    "    card.quality_scenarios[qa].measure,\n",
    ")"
   ]
  },
  {
   "cell_type": "markdown",
   "id": "47277fab-14df-4e4f-b3d3-0c6b2b34402e",
   "metadata": {},
   "source": [
    "### A Specific test case generated from the scenario:\n",
    "\n",
    "**Data and Data Source:**\tThe self evaluations in the original test data set will be used to generate a number of contextually similar but reading level different self-evaluations, which all convey the same information but have dramatically different Flesch-Kincade grade level or Flesch reading ease score. \n",
    "\n",
    "**Measurement and Condition:**\tThe evaluation text should be contextually similar across each evaluation set, but the readability of the text should change. The influence of the readability will be measured using 2-way ANOVA (with prompt group and a readability score being the 2 factors), with significance of p<0.05. The text readability will be measured by the Flesch-Kincade Grade level or the Flesch Reading Ease score.\n",
    "\n",
    "**Context:**\tNormal Operation"
   ]
  },
  {
   "cell_type": "markdown",
   "id": "cdcdf2ab-64de-4e7d-80b1-50b3b085ea1e",
   "metadata": {},
   "source": [
    "### Gather evidence"
   ]
  },
  {
   "cell_type": "code",
   "execution_count": null,
   "id": "ba835d3c-a157-4f8d-aae9-8bf3b7467534",
   "metadata": {},
   "outputs": [],
   "source": [
    "import numpy as np\n",
    "import pandas as pd\n",
    "\n",
    "from os import path\n",
    "import re\n",
    "from scipy.stats import f_oneway\n",
    "\n",
    "import statsmodels.api as sm\n",
    "from statsmodels.formula.api import ols"
   ]
  },
  {
   "cell_type": "code",
   "execution_count": null,
   "id": "2c41e9db-47d4-4984-9b2c-4fc8a7d67e46",
   "metadata": {},
   "outputs": [],
   "source": [
    "input_df = pd.read_csv(\n",
    "    os.path.join(DATASETS_DIR, \"5h_llm_input_inclusivity.csv\")\n",
    ")\n",
    "input_df.head()"
   ]
  },
  {
   "cell_type": "code",
   "execution_count": null,
   "id": "e874b9c5-98de-4348-a7d4-7ffb8a57ec81",
   "metadata": {},
   "outputs": [],
   "source": [
    "output_df = pd.read_csv(\n",
    "    path.join(DATASETS_DIR, \"5h_llm_output_inclusivity.csv\")\n",
    ")  # data file with LLm results\n",
    "output_df.head()"
   ]
  },
  {
   "cell_type": "code",
   "execution_count": null,
   "id": "c9c6bbaf-0417-4d9f-a38b-cdbb6cfc0712",
   "metadata": {},
   "outputs": [],
   "source": [
    "my_df = pd.merge(\n",
    "    input_df, output_df, left_on=\"Unnamed: 0\", right_on=\"Unnamed: 0\"\n",
    ")\n",
    "\n",
    "my_df = my_df[\n",
    "    [\n",
    "        \"evaluationOutput\",\n",
    "        \"extractedOverallRating\",\n",
    "        \"PromptGroupNum\",\n",
    "        \"Flesch-Kincade Grade Level\",\n",
    "        \"Flesch Reading Ease Score\",\n",
    "    ]\n",
    "]\n",
    "my_df.rename(\n",
    "    columns={\n",
    "        \"extractedOverallRating\": \"overallRating\",\n",
    "        \"Flesch-Kincade Grade Level\": \"FKGrade\",\n",
    "        \"Flesch Reading Ease Score\": \"FReadingScore\",\n",
    "    },\n",
    "    inplace=True,\n",
    ")"
   ]
  },
  {
   "cell_type": "code",
   "execution_count": null,
   "id": "a3ad4d69-6889-414c-a50e-909485e90e35",
   "metadata": {},
   "outputs": [],
   "source": [
    "my_df2 = my_df[[\"overallRating\", \"PromptGroupNum\", \"FKGrade\", \"FReadingScore\"]]\n",
    "my_df2 = my_df2.astype(\n",
    "    {\n",
    "        \"overallRating\": int,\n",
    "        \"PromptGroupNum\": str,\n",
    "        \"FKGrade\": float,\n",
    "        \"FReadingScore\": float,\n",
    "    }\n",
    ")\n",
    "my_df2"
   ]
  },
  {
   "cell_type": "markdown",
   "id": "3acab600-6988-4ac8-b0d6-158245620f84",
   "metadata": {},
   "source": [
    "### Save evidence to the specicified scenario"
   ]
  },
  {
   "cell_type": "code",
   "execution_count": null,
   "id": "925e9e0a-73f6-40d3-acca-25bb6dd9bd1a",
   "metadata": {},
   "outputs": [],
   "source": [
    "# run test, collect p-values\n",
    "model = ols(\n",
    "    \"overallRating ~ C(PromptGroupNum) + FReadingScore+ C(PromptGroupNum):FReadingScore\",\n",
    "    data=my_df2,\n",
    ").fit()\n",
    "\n",
    "\n",
    "def run_anova_lm(model):\n",
    "    res = sm.stats.anova_lm(model, typ=2)\n",
    "\n",
    "    print(res)\n",
    "    if res[\"PR(>F)\"].loc[\"FReadingScore\"] < 0.05:\n",
    "        print(\"fail test\")\n",
    "    else:\n",
    "        print(\"pass test\")\n",
    "\n",
    "    f_rs = res[\"F\"].loc[\"FReadingScore\"]\n",
    "    p_rs = res[\"PR(>F)\"].loc[\"FReadingScore\"]\n",
    "\n",
    "    return [f_rs, p_rs]\n",
    "\n",
    "\n",
    "res = run_anova_lm(model)\n",
    "print(res)"
   ]
  },
  {
   "cell_type": "code",
   "execution_count": null,
   "id": "b8aa9949-2a58-43dd-bc2b-22f997407021",
   "metadata": {},
   "outputs": [],
   "source": [
    "from mlte.evidence.types.array import Array\n",
    "from mlte.measurement.external_measurement import ExternalMeasurement\n",
    "\n",
    "am_measurement = ExternalMeasurement(\n",
    "    \"eval not dependent on writing level\", Array, run_anova_lm\n",
    ")\n",
    "\n",
    "# evaluate\n",
    "result = am_measurement.evaluate(model)\n",
    "\n",
    "print(result)\n",
    "result.save(force=True)"
   ]
  },
  {
   "cell_type": "code",
   "execution_count": null,
   "id": "7a53f6ab-0fdc-4c5d-aa35-86f7ff458d9d",
   "metadata": {},
   "outputs": [],
   "source": []
  }
 ],
 "metadata": {
  "kernelspec": {
   "display_name": ".venv",
   "language": "python",
   "name": "python3"
  },
  "language_info": {
   "codemirror_mode": {
    "name": "ipython",
    "version": 3
   },
   "file_extension": ".py",
   "mimetype": "text/x-python",
   "name": "python",
   "nbconvert_exporter": "python",
   "pygments_lexer": "ipython3",
   "version": "3.12.11"
  }
 },
 "nbformat": 4,
 "nbformat_minor": 5
}
