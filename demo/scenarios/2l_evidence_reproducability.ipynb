{
 "cells": [
  {
   "attachments": {},
   "cell_type": "raw",
   "metadata": {},
   "source": [
    "## 2k. Evidence - Reproducability QAS Measurements\n",
    "\n",
    "Evidence collected in this section checks for the Reproducability scenario defined in the previous step. Note that some functions will be loaded from external Python files."
   ]
  },
  {
   "attachments": {},
   "cell_type": "markdown",
   "metadata": {},
   "source": [
    "### Initialize MLTE Context\n",
    "\n",
    "MLTE contains a global context that manages the currently active _session_. Initializing the context tells MLTE how to store all of the artifacts that it produces. This import will also set up global constants related to folders and model to use."
   ]
  },
  {
   "cell_type": "code",
   "execution_count": null,
   "metadata": {},
   "outputs": [],
   "source": [
    "# Sets up context for the model being used, sets up constants related to folders and model data to be used.\n",
    "from demo.scenarios.session import *"
   ]
  },
  {
   "cell_type": "markdown",
   "metadata": {},
   "source": [
    "### Helper Functions\n",
    "General functions and external imports."
   ]
  },
  {
   "cell_type": "code",
   "execution_count": null,
   "metadata": {},
   "outputs": [],
   "source": [
    "# General functions.\n",
    "\n",
    "from demo.scenarios import garden\n",
    "import numpy as np\n",
    "import pandas as pd\n",
    "from scipy import stats\n",
    "from os import path\n",
    "\n",
    "\n",
    "def load_data(data_folder: str):\n",
    "    \"\"\"Loads all garden data results and taxonomy categories.\"\"\"\n",
    "    df_results = garden.load_base_results(data_folder, \"predictions_test.csv\")\n",
    "    df_results.head()\n",
    "\n",
    "    # Load the taxonomic data and merge with results.\n",
    "    df_info = garden.load_taxonomy(data_folder)\n",
    "    df_results.rename(columns={\"label\": \"Label\"}, inplace=True)\n",
    "    df_all = garden.merge_taxonomy_with_results(df_results, df_info)\n",
    "\n",
    "    return df_info, df_all\n",
    "\n",
    "\n",
    "def load_results(data_folder: str):\n",
    "    \"\"\"loads reproducabilty test result runs\"\"\"\n",
    "    # my_folder = data_folder +\n",
    "    df_results = pd.read_csv(\n",
    "        path.join(data_folder, \"ReproducibilityDataSet_CV.csv\")\n",
    "    )\n",
    "\n",
    "    return df_results\n",
    "    # df_results = garden.load_base_results(data_folder,)"
   ]
  },
  {
   "cell_type": "code",
   "execution_count": null,
   "metadata": {},
   "outputs": [],
   "source": [
    "# Prepare the data. For this section, instead of executing the model, we will use CSV files containing the results of an already executed run of the model.\n",
    "# df_info, df_all = load_data(DATASETS_DIR)\n",
    "\n",
    "# df = pd.read_csv('ReproducibilityDataSet_CV.csv')\n",
    "\n",
    "df = load_results(DATASETS_DIR)"
   ]
  },
  {
   "cell_type": "code",
   "execution_count": null,
   "metadata": {},
   "outputs": [],
   "source": [
    "results = stats.friedmanchisquare(\n",
    "    df.Accuracy_r0,\n",
    "    df.Accuracy_r1,\n",
    "    df.Accuracy_r2,\n",
    "    df.Accuracy_r3,\n",
    "    df.Accuracy_r4,\n",
    "    df.Accuracy_r5,\n",
    "    df.Accuracy_r6,\n",
    "    df.Accuracy_r7,\n",
    "    df.Accuracy_r8,\n",
    "    df.Accuracy_r9,\n",
    ")\n",
    "results.pvalue"
   ]
  },
  {
   "attachments": {},
   "cell_type": "markdown",
   "metadata": {},
   "source": [
    "### Measurements\n",
    "\n",
    "In this first example, we simply wrap the output from `accuracy_score` with a custom `Result` type to cope with the output of a third-party library that is not supported by a MLTE builtin."
   ]
  },
  {
   "cell_type": "code",
   "execution_count": null,
   "metadata": {},
   "outputs": [],
   "source": [
    "from mlte.evidence.types.array import Array\n",
    "from mlte.measurement.external_measurement import ExternalMeasurement\n",
    "\n",
    "\n",
    "kruskal_measurement = ExternalMeasurement(\n",
    "    \"repeated training on training samples\", Array, stats.friedmanchisquare\n",
    ")\n",
    "\n",
    "# Evaluate.\n",
    "kruskal_res = kruskal_measurement.evaluate(\n",
    "    df.Accuracy_r0,\n",
    "    df.Accuracy_r1,\n",
    "    df.Accuracy_r2,\n",
    "    df.Accuracy_r3,\n",
    "    df.Accuracy_r4,\n",
    "    df.Accuracy_r5,\n",
    "    df.Accuracy_r6,\n",
    "    df.Accuracy_r7,\n",
    "    df.Accuracy_r8,\n",
    "    df.Accuracy_r9,\n",
    ")\n",
    "\n",
    "# Inspect values\n",
    "print(kruskal_res)\n",
    "\n",
    "# Save to artifact store\n",
    "kruskal_res.save(force=True)"
   ]
  },
  {
   "cell_type": "code",
   "execution_count": null,
   "metadata": {},
   "outputs": [],
   "source": []
  }
 ],
 "metadata": {
  "kernelspec": {
   "display_name": ".venv",
   "language": "python",
   "name": "python3"
  },
  "language_info": {
   "codemirror_mode": {
    "name": "ipython",
    "version": 3
   },
   "file_extension": ".py",
   "mimetype": "text/x-python",
   "name": "python",
   "nbconvert_exporter": "python",
   "pygments_lexer": "ipython3",
   "version": "3.12.11"
  }
 },
 "nbformat": 4,
 "nbformat_minor": 4
}
