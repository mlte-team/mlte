{
 "cells": [
  {
   "attachments": {},
   "cell_type": "markdown",
   "metadata": {},
   "source": [
    "## 2k. Evidence - Repeatability QAS Measurements\n",
    "\n",
    "Evidence collected in this section checks for the Repeatability scenario defined in the previous step. Note that some functions will be loaded from external Python files."
   ]
  },
  {
   "attachments": {},
   "cell_type": "markdown",
   "metadata": {},
   "source": [
    "### Initialize MLTE Context\n",
    "\n",
    "MLTE contains a global context that manages the currently active _session_. Initializing the context tells MLTE how to store all of the artifacts that it produces. This import will also set up global constants related to folders and model to use."
   ]
  },
  {
   "cell_type": "code",
   "execution_count": null,
   "metadata": {},
   "outputs": [],
   "source": [
    "# Sets up context for the model being used, sets up constants related to folders and model data to be used.\n",
    "from demo.scenarios.session import *"
   ]
  },
  {
   "cell_type": "markdown",
   "metadata": {},
   "source": [
    "### Helper Functions\n",
    "General functions and external imports."
   ]
  },
  {
   "cell_type": "code",
   "execution_count": null,
   "metadata": {},
   "outputs": [],
   "source": [
    "# General functions.\n",
    "\n",
    "from demo.scenarios import garden\n",
    "import numpy as np\n",
    "import pandas as pd\n",
    "from scipy import stats\n",
    "\n",
    "def load_data(data_folder: str):\n",
    "    \"\"\"Loads all garden data results and taxonomy categories.\"\"\"\n",
    "    df_results = garden.load_base_results(data_folder, \"predictions_test.csv\")\n",
    "    df_results.head()\n",
    "\n",
    "    # Load the taxonomic data and merge with results.\n",
    "    df_info = garden.load_taxonomy(data_folder)\n",
    "    df_results.rename(columns={\"label\": \"Label\"}, inplace=True)\n",
    "    df_all = garden.merge_taxonomy_with_results(df_results, df_info)\n",
    "\n",
    "    return df_info, df_all\n",
    "\n",
    "\n"
   ]
  },
  {
   "cell_type": "code",
   "execution_count": null,
   "metadata": {},
   "outputs": [],
   "source": [
    "# Prepare the data. For this section, instead of executing the model, we will use CSV files containing the results of an already executed run of the model.\n",
    "df_info, df_all = load_data(DATASETS_DIR)\n"
   ]
  },
  {
   "cell_type": "code",
   "execution_count": null,
   "metadata": {},
   "outputs": [],
   "source": [
    "df_all[['model correct']]"
   ]
  },
  {
   "cell_type": "code",
   "execution_count": null,
   "metadata": {},
   "outputs": [],
   "source": [
    "res_df = pd.DataFrame()\n",
    "\n",
    "#test_res = df[['model correct']].to_numpy()\n",
    "#test_res\n",
    "\n",
    "for i in range(50):\n",
    "    #generate 50 samples of the test data\n",
    "    col_name = 'run' + str(i)\n",
    "    sample_df = df_all[['model correct']].sample(n=500, replace = True, random_state = i)\n",
    "    sample_df.reset_index(drop = True, inplace=True)\n",
    "    sample_df.rename(columns={'model correct':col_name}, inplace=True)\n",
    "    if i==0:\n",
    "        res_df = sample_df.copy()\n",
    "    else:\n",
    "        res_df = pd.merge(res_df, sample_df, right_index=True, left_index = True)\n",
    "\n",
    "res_df"
   ]
  },
  {
   "cell_type": "code",
   "execution_count": null,
   "metadata": {},
   "outputs": [],
   "source": [
    "results = stats.kruskal(res_df.run0, res_df.run1, res_df.run2, res_df.run3, res_df.run4, res_df.run5, res_df.run6, res_df.run7, res_df.run8, res_df.run9,\n",
    "              res_df.run10, res_df.run11, res_df.run12, res_df.run13, res_df.run14, res_df.run15, res_df.run16, res_df.run17, res_df.run18, res_df.run19,\n",
    "              res_df.run20, res_df.run21, res_df.run22, res_df.run23, res_df.run24, res_df.run25, res_df.run26, res_df.run27, res_df.run28, res_df.run29,\n",
    "              res_df.run30, res_df.run31, res_df.run32, res_df.run33, res_df.run34, res_df.run35, res_df.run36, res_df.run37, res_df.run38, res_df.run39,\n",
    "              res_df.run40, res_df.run41, res_df.run42, res_df.run43, res_df.run44, res_df.run45, res_df.run46, res_df.run47, res_df.run48, res_df.run49)"
   ]
  },
  {
   "attachments": {},
   "cell_type": "markdown",
   "metadata": {},
   "source": [
    "### Measurements\n",
    "\n",
    "In this first example, we simply wrap the output from `accuracy_score` with a custom `Result` type to cope with the output of a third-party library that is not supported by a MLTE builtin."
   ]
  },
  {
   "cell_type": "code",
   "execution_count": null,
   "metadata": {},
   "outputs": [],
   "source": [
    "from mlte.evidence.types.array import Array\n",
    "from mlte.measurement.external_measurement import ExternalMeasurement\n",
    "\n",
    "\n",
    "kruskal_measurement = ExternalMeasurement(\n",
    "    \"repeated results sampling\", Array, stats.kruskal\n",
    ")\n",
    "\n",
    "# Evaluate.\n",
    "kruskal_res = kruskal_measurement.evaluate(\n",
    "    res_df.run0, res_df.run1, res_df.run2, res_df.run3, res_df.run4, res_df.run5, res_df.run6, res_df.run7, res_df.run8, res_df.run9,\n",
    "    res_df.run10, res_df.run11, res_df.run12, res_df.run13, res_df.run14, res_df.run15, res_df.run16, res_df.run17, res_df.run18, res_df.run19,\n",
    "    res_df.run20, res_df.run21, res_df.run22, res_df.run23, res_df.run24, res_df.run25, res_df.run26, res_df.run27, res_df.run28, res_df.run29,\n",
    "    res_df.run30, res_df.run31, res_df.run32, res_df.run33, res_df.run34, res_df.run35, res_df.run36, res_df.run37, res_df.run38, res_df.run39,\n",
    "    res_df.run40, res_df.run41, res_df.run42, res_df.run43, res_df.run44, res_df.run45, res_df.run46, res_df.run47, res_df.run48, res_df.run49\n",
    ")\n",
    "\n",
    "# Inspect values\n",
    "print(kruskal_res)\n",
    "\n",
    "# Save to artifact store\n",
    "kruskal_res.save(force=True)"
   ]
  },
  {
   "cell_type": "code",
   "execution_count": null,
   "metadata": {},
   "outputs": [],
   "source": []
  }
 ],
 "metadata": {
  "kernelspec": {
   "display_name": ".venv",
   "language": "python",
   "name": "python3"
  },
  "language_info": {
   "codemirror_mode": {
    "name": "ipython",
    "version": 3
   },
   "file_extension": ".py",
   "mimetype": "text/x-python",
   "name": "python",
   "nbconvert_exporter": "python",
   "pygments_lexer": "ipython3",
   "version": "3.12.11"
  }
 },
 "nbformat": 4,
 "nbformat_minor": 4
}
