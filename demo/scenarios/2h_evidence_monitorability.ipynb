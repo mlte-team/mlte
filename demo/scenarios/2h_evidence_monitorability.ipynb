{
 "cells": [
  {
   "attachments": {},
   "cell_type": "markdown",
   "metadata": {},
   "source": [
    "## 2h. Evidence - Monitorability QAS Measurements\n",
    "\n",
    "Measurements to monitor and detect issues with changes in inputs and outputs."
   ]
  },
  {
   "attachments": {},
   "cell_type": "markdown",
   "metadata": {},
   "source": [
    "### Initialize MLTE Context\n",
    "\n",
    "MLTE contains a global context that manages the currently active _session_. Initializing the context tells MLTE how to store all of the artifacts that it produces. This import will also set up global constants related to folders and model to use."
   ]
  },
  {
   "cell_type": "code",
   "execution_count": 1,
   "metadata": {},
   "outputs": [],
   "source": [
    "# Sets up context for the model being used, sets up constants related to folders and model data to be used.\n",
    "from demo.scenarios.session import *"
   ]
  },
  {
   "cell_type": "markdown",
   "metadata": {},
   "source": [
    "### Helper Functions\n",
    "Prepare all functions and data for the measurements."
   ]
  },
  {
   "cell_type": "code",
   "execution_count": 3,
   "metadata": {},
   "outputs": [],
   "source": [
    "# Load model module\n",
    "from demo.scenarios import model_predict\n",
    "\n",
    "\n",
    "def run_and_get_log() -> str:\n",
    "    \"\"\"Runs the model and gets the log.\"\"\"\n",
    "    model_predict.run_model(DATASETS_DIR, MODEL_FILE_PATH, MODEL_WEIGHTS_PATH)\n",
    "    log = model_predict.load_log()\n",
    "    return \"Model - Input OOD Error\" in log"
   ]
  },
  {
   "cell_type": "markdown",
   "metadata": {},
   "source": [
    "### Measurements\n",
    "\n",
    "Finally, we execute the measurements and store the results."
   ]
  },
  {
   "cell_type": "code",
   "execution_count": 4,
   "metadata": {},
   "outputs": [
    {
     "name": "stdout",
     "output_type": "stream",
     "text": [
      "TensorFlow version: 2.14.0\n",
      "Found 1 files belonging to 1 classes.\n",
      "Loaded model from disk!\n",
      "Model: \"model\"\n",
      "_________________________________________________________________\n",
      " Layer (type)                Output Shape              Param #   \n",
      "=================================================================\n",
      " input_2 (InputLayer)        [(None, 224, 224, 3)]     0         \n",
      "                                                                 \n",
      " sequential (Sequential)     (None, 224, 224, 3)       0         \n",
      "                                                                 \n",
      " tf.__operators__.getitem (  (None, 224, 224, 3)       0         \n",
      " SlicingOpLambda)                                                \n",
      "                                                                 \n",
      " tf.nn.bias_add (TFOpLambda  (None, 224, 224, 3)       0         \n",
      " )                                                               \n",
      "                                                                 \n",
      " resnet50 (Functional)       (None, 7, 7, 2048)        23587712  \n",
      "                                                                 \n",
      " global_average_pooling2d (  (None, 2048)              0         \n",
      " GlobalAveragePooling2D)                                         \n",
      "                                                                 \n",
      " dropout (Dropout)           (None, 2048)              0         \n",
      "                                                                 \n",
      " dense (Dense)               (None, 1024)              2098176   \n",
      "                                                                 \n",
      " dropout_1 (Dropout)         (None, 1024)              0         \n",
      "                                                                 \n",
      " dense_1 (Dense)             (None, 102)               104550    \n",
      "                                                                 \n",
      "=================================================================\n",
      "Total params: 25790438 (98.38 MB)\n",
      "Trainable params: 25737318 (98.18 MB)\n",
      "Non-trainable params: 53120 (207.50 KB)\n",
      "_________________________________________________________________\n",
      "None\n",
      "Size of model json file (/Users/rbedman/scratch/mlte/demo/scenarios/model/model_f3_a.json): 88441 bytes\n",
      "Size of weights file (/Users/rbedman/scratch/mlte/demo/scenarios/model/model_f_a.h5): 103401752 bytes\n",
      "Memory used for the entire model loading process: 311574528 bytes.\n",
      "Running inference on 1 samples...\n",
      "1/1 [==============================] - 0s 350ms/step\n",
      "\n",
      "--- STATISTICS ---\n",
      "Average elapsed time per inference: 0.36942 seconds\n",
      "Average memory used per inference: 35422208.00000 bytes.\n",
      "2024-10-03 14:55:13,809 Falling back to TensorFlow client; we recommended you install the Cloud TPU client directly with pip install cloud-tpu-client.\n",
      "2024-10-03 14:55:16,703 Creating converter from 7 to 5\n",
      "2024-10-03 14:55:16,703 Creating converter from 5 to 7\n",
      "2024-10-03 14:55:16,703 Creating converter from 7 to 5\n",
      "2024-10-03 14:55:16,703 Creating converter from 5 to 7\n",
      "2024-10-03 14:55:22,255 TensorFlow version: 2.14.0\n",
      "2024-10-03 14:55:23,105 Creating converter from 3 to 5\n",
      "2024-10-03 14:55:23,172 Loaded model from disk!\n",
      "2024-10-03 14:55:23,184 None\n",
      "2024-10-03 14:55:23,185 Size of model json file (/Users/rbedman/scratch/mlte/demo/scenarios/model/model_f3_a.json): 88441 bytes\n",
      "2024-10-03 14:55:23,185 Size of weights file (/Users/rbedman/scratch/mlte/demo/scenarios/model/model_f_a.h5): 103401752 bytes\n",
      "2024-10-03 14:55:23,185 Memory used for the entire model loading process: 311574528 bytes.\n",
      "2024-10-03 14:55:23,186 Running inference on 1 samples...\n",
      "2024-10-03 14:55:23,570 \n",
      "--- STATISTICS ---\n",
      "2024-10-03 14:55:23,570 Average elapsed time per inference: 0.36942 seconds\n",
      "2024-10-03 14:55:23,571 Average memory used per inference: 35422208.00000 bytes.\n",
      "\n"
     ]
    }
   ],
   "source": [
    "from mlte.measurement.external_measurement import ExternalMeasurement\n",
    "from demo.scenarios.values.string import String\n",
    "\n",
    "# Evaluate, identifier has to be the same one defined in the Spec.\n",
    "measurement = ExternalMeasurement(\"detect ood inputs\", String, run_and_get_log)\n",
    "result = measurement.evaluate()\n",
    "\n",
    "# Inspect value\n",
    "print(result)\n",
    "\n",
    "# Save to artifact store\n",
    "result.save(force=True)"
   ]
  },
  {
   "cell_type": "code",
   "execution_count": 5,
   "metadata": {},
   "outputs": [
    {
     "name": "stdout",
     "output_type": "stream",
     "text": [
      "TensorFlow version: 2.14.0\n",
      "Found 3 files belonging to 1 classes.\n",
      "Loaded model from disk!\n",
      "Model: \"model\"\n",
      "_________________________________________________________________\n",
      " Layer (type)                Output Shape              Param #   \n",
      "=================================================================\n",
      " input_2 (InputLayer)        [(None, 224, 224, 3)]     0         \n",
      "                                                                 \n",
      " sequential (Sequential)     (None, 224, 224, 3)       0         \n",
      "                                                                 \n",
      " tf.__operators__.getitem (  (None, 224, 224, 3)       0         \n",
      " SlicingOpLambda)                                                \n",
      "                                                                 \n",
      " tf.nn.bias_add (TFOpLambda  (None, 224, 224, 3)       0         \n",
      " )                                                               \n",
      "                                                                 \n",
      " resnet50 (Functional)       (None, 7, 7, 2048)        23587712  \n",
      "                                                                 \n",
      " global_average_pooling2d (  (None, 2048)              0         \n",
      " GlobalAveragePooling2D)                                         \n",
      "                                                                 \n",
      " dropout (Dropout)           (None, 2048)              0         \n",
      "                                                                 \n",
      " dense (Dense)               (None, 1024)              2098176   \n",
      "                                                                 \n",
      " dropout_1 (Dropout)         (None, 1024)              0         \n",
      "                                                                 \n",
      " dense_1 (Dense)             (None, 102)               104550    \n",
      "                                                                 \n",
      "=================================================================\n",
      "Total params: 25790438 (98.38 MB)\n",
      "Trainable params: 25737318 (98.18 MB)\n",
      "Non-trainable params: 53120 (207.50 KB)\n",
      "_________________________________________________________________\n",
      "None\n",
      "Size of model json file (/Users/rbedman/scratch/mlte/demo/scenarios/model/model_f3_a.json): 88441 bytes\n",
      "Size of weights file (/Users/rbedman/scratch/mlte/demo/scenarios/model/model_f_a.h5): 103401752 bytes\n",
      "Memory used for the entire model loading process: 0 bytes.\n",
      "Running inference on 3 samples...\n",
      "1/1 [==============================] - 0s 329ms/step\n",
      "1/1 [==============================] - 0s 46ms/step\n",
      "1/1 [==============================] - 0s 50ms/step\n",
      "\n",
      "--- STATISTICS ---\n",
      "Average elapsed time per inference: 0.15373 seconds\n",
      "Average memory used per inference: 0.00000 bytes.\n",
      "2024-10-03 14:55:13,809 Falling back to TensorFlow client; we recommended you install the Cloud TPU client directly with pip install cloud-tpu-client.\n",
      "2024-10-03 14:55:16,703 Creating converter from 7 to 5\n",
      "2024-10-03 14:55:16,703 Creating converter from 5 to 7\n",
      "2024-10-03 14:55:16,703 Creating converter from 7 to 5\n",
      "2024-10-03 14:55:16,703 Creating converter from 5 to 7\n",
      "2024-10-03 14:55:22,255 TensorFlow version: 2.14.0\n",
      "2024-10-03 14:55:23,105 Creating converter from 3 to 5\n",
      "2024-10-03 14:55:23,172 Loaded model from disk!\n",
      "2024-10-03 14:55:23,184 None\n",
      "2024-10-03 14:55:23,185 Size of model json file (/Users/rbedman/scratch/mlte/demo/scenarios/model/model_f3_a.json): 88441 bytes\n",
      "2024-10-03 14:55:23,185 Size of weights file (/Users/rbedman/scratch/mlte/demo/scenarios/model/model_f_a.h5): 103401752 bytes\n",
      "2024-10-03 14:55:23,185 Memory used for the entire model loading process: 311574528 bytes.\n",
      "2024-10-03 14:55:23,186 Running inference on 1 samples...\n",
      "2024-10-03 14:55:23,570 \n",
      "--- STATISTICS ---\n",
      "2024-10-03 14:55:23,570 Average elapsed time per inference: 0.36942 seconds\n",
      "2024-10-03 14:55:23,571 Average memory used per inference: 35422208.00000 bytes.\n",
      "2024-10-03 16:35:12,539 TensorFlow version: 2.14.0\n",
      "2024-10-03 16:35:13,346 Loaded model from disk!\n",
      "2024-10-03 16:35:13,357 None\n",
      "2024-10-03 16:35:13,358 Size of model json file (/Users/rbedman/scratch/mlte/demo/scenarios/model/model_f3_a.json): 88441 bytes\n",
      "2024-10-03 16:35:13,358 Size of weights file (/Users/rbedman/scratch/mlte/demo/scenarios/model/model_f_a.h5): 103401752 bytes\n",
      "2024-10-03 16:35:13,358 Memory used for the entire model loading process: 0 bytes.\n",
      "2024-10-03 16:35:13,359 Running inference on 3 samples...\n",
      "2024-10-03 16:35:13,829 \n",
      "--- STATISTICS ---\n",
      "2024-10-03 16:35:13,829 Average elapsed time per inference: 0.15373 seconds\n",
      "2024-10-03 16:35:13,830 Average memory used per inference: 0.00000 bytes.\n",
      "\n"
     ]
    }
   ],
   "source": [
    "from mlte.measurement.external_measurement import ExternalMeasurement\n",
    "from demo.scenarios.values.string import String\n",
    "\n",
    "# Evaluate, identifier has to be the same one defined in the Spec.\n",
    "measurement = ExternalMeasurement(\n",
    "    \"monitor output confidence shift\", String, run_and_get_log\n",
    ")\n",
    "result = measurement.evaluate()\n",
    "\n",
    "# Inspect value\n",
    "print(result)\n",
    "\n",
    "# Save to artifact store\n",
    "result.save(force=True)"
   ]
  },
  {
   "cell_type": "code",
   "execution_count": null,
   "metadata": {},
   "outputs": [],
   "source": []
  }
 ],
 "metadata": {
  "kernelspec": {
   "display_name": "Python 3 (ipykernel)",
   "language": "python",
   "name": "python3"
  },
  "language_info": {
   "codemirror_mode": {
    "name": "ipython",
    "version": 3
   },
   "file_extension": ".py",
   "mimetype": "text/x-python",
   "name": "python",
   "nbconvert_exporter": "python",
   "pygments_lexer": "ipython3",
   "version": "3.10.15"
  }
 },
 "nbformat": 4,
 "nbformat_minor": 4
}
