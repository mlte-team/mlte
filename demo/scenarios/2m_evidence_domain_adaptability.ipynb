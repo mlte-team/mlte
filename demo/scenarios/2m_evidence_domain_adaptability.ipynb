{
 "cells": [
  {
   "attachments": {},
   "cell_type": "raw",
   "metadata": {},
   "source": [
    "## 2m. Evidence - Reproducability QAS Measurements\n",
    "\n",
    "Evidence collected in this section checks for the Reproducability scenario defined in the previous step. Note that some functions will be loaded from external Python files."
   ]
  },
  {
   "attachments": {},
   "cell_type": "markdown",
   "metadata": {},
   "source": [
    "### Initialize MLTE Context\n",
    "\n",
    "MLTE contains a global context that manages the currently active _session_. Initializing the context tells MLTE how to store all of the artifacts that it produces. This import will also set up global constants related to folders and model to use."
   ]
  },
  {
   "cell_type": "code",
   "execution_count": 30,
   "metadata": {},
   "outputs": [],
   "source": [
    "# Sets up context for the model being used, sets up constants related to folders and model data to be used.\n",
    "from demo.scenarios.session import *"
   ]
  },
  {
   "cell_type": "markdown",
   "metadata": {},
   "source": [
    "### Helper Functions\n",
    "General functions and external imports."
   ]
  },
  {
   "cell_type": "code",
   "execution_count": 31,
   "metadata": {},
   "outputs": [],
   "source": [
    "# General functions.\n",
    "\n",
    "from demo.scenarios import garden\n",
    "import numpy as np\n",
    "import pandas as pd\n",
    "from scipy import stats\n",
    "from scipy.stats import f_oneway\n",
    "\n",
    "def load_data(data_folder: str, data_file: str):\n",
    "    \"\"\"Loads all garden data results and taxonomy categories.\"\"\"\n",
    "    df_results = garden.load_base_results(data_folder, data_file) \n",
    "    df_results.head()\n",
    "\n",
    "    # Load the taxonomic data and merge with results.\n",
    "    df_info = garden.load_taxonomy(data_folder)\n",
    "    df_results.rename(columns={\"label\": \"Label\"}, inplace=True)\n",
    "    df_all = garden.merge_taxonomy_with_results(df_results, df_info)\n",
    "\n",
    "    return df_info, df_all\n",
    "\n",
    "def load_results(data_folder: str):\n",
    "    \"\"\"loads reproducabilty test result runs\"\"\"\n",
    "    #my_folder = data_folder + \n",
    "    df_results = pd.read_csv(path.join(data_folder, 'ReproducibilityDataSet_CV.csv'))\n",
    "\n",
    "    return df_results\n",
    "    #df_results = garden.load_base_results(data_folder,)\n"
   ]
  },
  {
   "cell_type": "code",
   "execution_count": 32,
   "metadata": {},
   "outputs": [
    {
     "name": "stdout",
     "output_type": "stream",
     "text": [
      "102 102 102\n",
      "102 102 102\n"
     ]
    }
   ],
   "source": [
    "# Prepare the data. For this section, instead of executing the model, we will use CSV files containing the results of an already executed run of the model.\n",
    "#df_info, df_all = load_data(DATASETS_DIR)\n",
    "\n",
    "#df = pd.read_csv('ReproducibilityDataSet_CV.csv')\n",
    "\n",
    "df_info, df_test = load_data(DATASETS_DIR, \"predictions_test.csv\")\n",
    "df_info, df_new = load_data(DATASETS_DIR, \"predictions_dall-e-2.csv\")\n",
    "df_test['dataset'] = 'DALL-E-2'\n",
    "df_new['dataset'] = 'Test'\n",
    "df_all = pd.concat([df_new, df_test], ignore_index=True)"
   ]
  },
  {
   "cell_type": "code",
   "execution_count": 33,
   "metadata": {},
   "outputs": [
    {
     "data": {
      "text/plain": [
       "Index(['Label', 'predicted_label', 'label_prob', 'model correct', 'model_file',\n",
       "       'model_hash', 'Unnamed: 0', 'Group', 'Count', 'Common Name',\n",
       "       'Other Name', 'Risk', 'Kingdom', 'Phylum', 'Clade1', 'Clade2', 'Clade3',\n",
       "       'Order', 'Family', 'Subfamily', 'Genus', 'Label Name', 'dataset'],\n",
       "      dtype='object')"
      ]
     },
     "execution_count": 33,
     "metadata": {},
     "output_type": "execute_result"
    }
   ],
   "source": [
    "df_all.columns"
   ]
  },
  {
   "cell_type": "code",
   "execution_count": 34,
   "metadata": {},
   "outputs": [],
   "source": [
    "valid_labels = df_all.groupby(['Label', 'dataset']).size().unstack().index.tolist()"
   ]
  },
  {
   "cell_type": "code",
   "execution_count": 35,
   "metadata": {},
   "outputs": [
    {
     "data": {
      "text/plain": [
       "0         0\n",
       "1         0\n",
       "2         0\n",
       "3         0\n",
       "4         0\n",
       "       ... \n",
       "2177    101\n",
       "2178    101\n",
       "2179    101\n",
       "2180    101\n",
       "2181    101\n",
       "Name: Label, Length: 2182, dtype: int64"
      ]
     },
     "execution_count": 35,
     "metadata": {},
     "output_type": "execute_result"
    }
   ],
   "source": [
    "df_all.Label"
   ]
  },
  {
   "cell_type": "code",
   "execution_count": 43,
   "metadata": {},
   "outputs": [],
   "source": [
    "def run_anova_for_label(df, label):\n",
    "    # Perform ANOVA for a specific label\n",
    "    subset = df[df['Label'] == label]\n",
    "    test_vals = subset[subset['dataset'] == 'Test']['label_prob']\n",
    "    dalle_vals = subset[subset['dataset'] == 'DALL-E-2']['label_prob']\n",
    "\n",
    "    f_stat, p_val = f_oneway(test_vals, dalle_vals)\n",
    "\n",
    "    return {\n",
    "        'label': label,\n",
    "        'f_stat': f_stat,\n",
    "        'p_val': p_val,\n",
    "    }\n",
    "\n",
    "def run_anova(df_all):\n",
    "    anova_results = [run_anova_for_label(df_all, label) for label in valid_labels]\n",
    "    results_df = pd.DataFrame(anova_results)\n",
    "    results_df.sort_values(by='label', inplace=True)\n",
    "    results_df.set_index('label', inplace = True)\n",
    "    return results_df\n",
    "\n",
    "def run_anova2(df_all):\n",
    "    res_df = run_anova(df_all)\n",
    "    \n",
    "    return res_df.to_numpy()"
   ]
  },
  {
   "cell_type": "code",
   "execution_count": 44,
   "metadata": {},
   "outputs": [
    {
     "data": {
      "text/html": [
       "<div>\n",
       "<style scoped>\n",
       "    .dataframe tbody tr th:only-of-type {\n",
       "        vertical-align: middle;\n",
       "    }\n",
       "\n",
       "    .dataframe tbody tr th {\n",
       "        vertical-align: top;\n",
       "    }\n",
       "\n",
       "    .dataframe thead th {\n",
       "        text-align: right;\n",
       "    }\n",
       "</style>\n",
       "<table border=\"1\" class=\"dataframe\">\n",
       "  <thead>\n",
       "    <tr style=\"text-align: right;\">\n",
       "      <th></th>\n",
       "      <th>f_stat</th>\n",
       "      <th>p_val</th>\n",
       "    </tr>\n",
       "    <tr>\n",
       "      <th>label</th>\n",
       "      <th></th>\n",
       "      <th></th>\n",
       "    </tr>\n",
       "  </thead>\n",
       "  <tbody>\n",
       "    <tr>\n",
       "      <th>0</th>\n",
       "      <td>35.980582</td>\n",
       "      <td>0.000007</td>\n",
       "    </tr>\n",
       "    <tr>\n",
       "      <th>1</th>\n",
       "      <td>1.282398</td>\n",
       "      <td>0.271543</td>\n",
       "    </tr>\n",
       "    <tr>\n",
       "      <th>2</th>\n",
       "      <td>4.059687</td>\n",
       "      <td>0.058292</td>\n",
       "    </tr>\n",
       "    <tr>\n",
       "      <th>3</th>\n",
       "      <td>0.000383</td>\n",
       "      <td>0.984583</td>\n",
       "    </tr>\n",
       "    <tr>\n",
       "      <th>4</th>\n",
       "      <td>26.633249</td>\n",
       "      <td>0.000056</td>\n",
       "    </tr>\n",
       "    <tr>\n",
       "      <th>...</th>\n",
       "      <td>...</td>\n",
       "      <td>...</td>\n",
       "    </tr>\n",
       "    <tr>\n",
       "      <th>97</th>\n",
       "      <td>13.678314</td>\n",
       "      <td>0.001525</td>\n",
       "    </tr>\n",
       "    <tr>\n",
       "      <th>98</th>\n",
       "      <td>32.823478</td>\n",
       "      <td>0.000016</td>\n",
       "    </tr>\n",
       "    <tr>\n",
       "      <th>99</th>\n",
       "      <td>3.832493</td>\n",
       "      <td>0.065120</td>\n",
       "    </tr>\n",
       "    <tr>\n",
       "      <th>100</th>\n",
       "      <td>22.057126</td>\n",
       "      <td>0.000157</td>\n",
       "    </tr>\n",
       "    <tr>\n",
       "      <th>101</th>\n",
       "      <td>40.133000</td>\n",
       "      <td>0.000004</td>\n",
       "    </tr>\n",
       "  </tbody>\n",
       "</table>\n",
       "<p>102 rows × 2 columns</p>\n",
       "</div>"
      ],
      "text/plain": [
       "          f_stat     p_val\n",
       "label                     \n",
       "0      35.980582  0.000007\n",
       "1       1.282398  0.271543\n",
       "2       4.059687  0.058292\n",
       "3       0.000383  0.984583\n",
       "4      26.633249  0.000056\n",
       "...          ...       ...\n",
       "97     13.678314  0.001525\n",
       "98     32.823478  0.000016\n",
       "99      3.832493  0.065120\n",
       "100    22.057126  0.000157\n",
       "101    40.133000  0.000004\n",
       "\n",
       "[102 rows x 2 columns]"
      ]
     },
     "execution_count": 44,
     "metadata": {},
     "output_type": "execute_result"
    }
   ],
   "source": [
    "# Run ANOVA\n",
    "#print(f\"Running ANOVA on {len(valid_labels)} labels...\")\n",
    "#anova_results = [run_anova_for_label(df_all, label) for label in valid_labels]\n",
    "\n",
    "#results_df = pd.DataFrame(anova_results)\n",
    "results_df = run_anova(df_all)\n",
    "#results_df['significant'] = results_df['p_val'] < 0.05\n",
    "results_df"
   ]
  },
  {
   "cell_type": "code",
   "execution_count": 49,
   "metadata": {},
   "outputs": [
    {
     "data": {
      "text/html": [
       "<div>\n",
       "<style scoped>\n",
       "    .dataframe tbody tr th:only-of-type {\n",
       "        vertical-align: middle;\n",
       "    }\n",
       "\n",
       "    .dataframe tbody tr th {\n",
       "        vertical-align: top;\n",
       "    }\n",
       "\n",
       "    .dataframe thead th {\n",
       "        text-align: right;\n",
       "    }\n",
       "</style>\n",
       "<table border=\"1\" class=\"dataframe\">\n",
       "  <thead>\n",
       "    <tr style=\"text-align: right;\">\n",
       "      <th></th>\n",
       "      <th>f_stat</th>\n",
       "      <th>p_val</th>\n",
       "    </tr>\n",
       "    <tr>\n",
       "      <th>label</th>\n",
       "      <th></th>\n",
       "      <th></th>\n",
       "    </tr>\n",
       "  </thead>\n",
       "  <tbody>\n",
       "    <tr>\n",
       "      <th>0</th>\n",
       "      <td>35.980582</td>\n",
       "      <td>0.000007</td>\n",
       "    </tr>\n",
       "    <tr>\n",
       "      <th>1</th>\n",
       "      <td>1.282398</td>\n",
       "      <td>0.271543</td>\n",
       "    </tr>\n",
       "    <tr>\n",
       "      <th>2</th>\n",
       "      <td>4.059687</td>\n",
       "      <td>0.058292</td>\n",
       "    </tr>\n",
       "    <tr>\n",
       "      <th>3</th>\n",
       "      <td>0.000383</td>\n",
       "      <td>0.984583</td>\n",
       "    </tr>\n",
       "    <tr>\n",
       "      <th>4</th>\n",
       "      <td>26.633249</td>\n",
       "      <td>0.000056</td>\n",
       "    </tr>\n",
       "    <tr>\n",
       "      <th>...</th>\n",
       "      <td>...</td>\n",
       "      <td>...</td>\n",
       "    </tr>\n",
       "    <tr>\n",
       "      <th>97</th>\n",
       "      <td>13.678314</td>\n",
       "      <td>0.001525</td>\n",
       "    </tr>\n",
       "    <tr>\n",
       "      <th>98</th>\n",
       "      <td>32.823478</td>\n",
       "      <td>0.000016</td>\n",
       "    </tr>\n",
       "    <tr>\n",
       "      <th>99</th>\n",
       "      <td>3.832493</td>\n",
       "      <td>0.065120</td>\n",
       "    </tr>\n",
       "    <tr>\n",
       "      <th>100</th>\n",
       "      <td>22.057126</td>\n",
       "      <td>0.000157</td>\n",
       "    </tr>\n",
       "    <tr>\n",
       "      <th>101</th>\n",
       "      <td>40.133000</td>\n",
       "      <td>0.000004</td>\n",
       "    </tr>\n",
       "  </tbody>\n",
       "</table>\n",
       "<p>102 rows × 2 columns</p>\n",
       "</div>"
      ],
      "text/plain": [
       "          f_stat     p_val\n",
       "label                     \n",
       "0      35.980582  0.000007\n",
       "1       1.282398  0.271543\n",
       "2       4.059687  0.058292\n",
       "3       0.000383  0.984583\n",
       "4      26.633249  0.000056\n",
       "...          ...       ...\n",
       "97     13.678314  0.001525\n",
       "98     32.823478  0.000016\n",
       "99      3.832493  0.065120\n",
       "100    22.057126  0.000157\n",
       "101    40.133000  0.000004\n",
       "\n",
       "[102 rows x 2 columns]"
      ]
     },
     "execution_count": 49,
     "metadata": {},
     "output_type": "execute_result"
    }
   ],
   "source": [
    "run_anova(df_all)"
   ]
  },
  {
   "attachments": {},
   "cell_type": "markdown",
   "metadata": {},
   "source": [
    "### Measurements\n",
    "\n",
    "In this first example, we simply wrap the output from `accuracy_score` with a custom `Result` type to cope with the output of a third-party library that is not supported by a MLTE builtin."
   ]
  },
  {
   "cell_type": "code",
   "execution_count": 60,
   "metadata": {},
   "outputs": [
    {
     "data": {
      "text/plain": [
       "ArtifactModel(header=ArtifactHeaderModel(identifier='evidence.running in new domain', type='evidence', timestamp=1759188665, creator=None, level='version'), body=EvidenceModel(artifact_type=<ArtifactType.EVIDENCE: 'evidence'>, metadata=EvidenceMetadata(test_case_id='running in new domain', measurement=MeasurementMetadata(measurement_class='mlte.measurement.external_measurement.ExternalMeasurement', output_class='demo.scenarios.evidence.multiple_ranksums.MultipleRanksums', additional_data={'function': '__main__.calculate_multiple_anova'})), evidence_class='demo.scenarios.evidence.multiple_ranksums.MultipleRanksums', value=OpaqueValueModel(evidence_type=<EvidenceType.OPAQUE: 'opaque'>, data={'array': [{'evidence.label 0': F_onewayResult(statistic=np.float64(35.98058233033483), pvalue=np.float64(7.269476178488252e-06))}, {'evidence.label 1': F_onewayResult(statistic=np.float64(1.2823981355178078), pvalue=np.float64(0.2715430886274718))}, {'evidence.label 2': F_onewayResult(statistic=np.float64(4.059687454037485), pvalue=np.float64(0.05829167989491706))}, {'evidence.label 3': F_onewayResult(statistic=np.float64(0.000382861952999998), pvalue=np.float64(0.9845827951232068))}, {'evidence.label 4': F_onewayResult(statistic=np.float64(26.633248581589186), pvalue=np.float64(5.5590892321143456e-05))}, {'evidence.label 5': F_onewayResult(statistic=np.float64(35.0496700344866), pvalue=np.float64(1.0639196020891448e-05))}, {'evidence.label 6': F_onewayResult(statistic=np.float64(2.3646438805948513), pvalue=np.float64(0.14059961607756608))}, {'evidence.label 7': F_onewayResult(statistic=np.float64(16.025540990359794), pvalue=np.float64(0.0007606272070038686))}, {'evidence.label 8': F_onewayResult(statistic=np.float64(22.029256031231743), pvalue=np.float64(9.991423683777338e-05))}, {'evidence.label 9': F_onewayResult(statistic=np.float64(0.18450490993957322), pvalue=np.float64(0.6723617346265032))}, {'evidence.label 10': F_onewayResult(statistic=np.float64(0.9173330525083088), pvalue=np.float64(0.3502058469824145))}, {'evidence.label 11': F_onewayResult(statistic=np.float64(61.980306531731216), pvalue=np.float64(2.1248352874732888e-07))}, {'evidence.label 12': F_onewayResult(statistic=np.float64(15.611804673003787), pvalue=np.float64(0.0008565887782630255))}, {'evidence.label 13': F_onewayResult(statistic=np.float64(7.372731851066966), pvalue=np.float64(0.013728910787353055))}, {'evidence.label 14': F_onewayResult(statistic=np.float64(4.109602763744536), pvalue=np.float64(0.05690436515425498))}, {'evidence.label 15': F_onewayResult(statistic=np.float64(1.7797792695726478), pvalue=np.float64(0.1979475444524745))}, {'evidence.label 16': F_onewayResult(statistic=np.float64(21.23195851623323), pvalue=np.float64(0.00019203684668890486))}, {'evidence.label 17': F_onewayResult(statistic=np.float64(5.675404099689502), pvalue=np.float64(0.027808352113955492))}, {'evidence.label 18': F_onewayResult(statistic=np.float64(3.0471109498348863), pvalue=np.float64(0.09703199816021806))}, {'evidence.label 19': F_onewayResult(statistic=np.float64(1.13576300972296), pvalue=np.float64(0.29990550423942985))}, {'evidence.label 20': F_onewayResult(statistic=np.float64(6.876149123022881), pvalue=np.float64(0.016769133308966466))}, {'evidence.label 21': F_onewayResult(statistic=np.float64(1.3503877992931355), pvalue=np.float64(0.25960023354928297))}, {'evidence.label 22': F_onewayResult(statistic=np.float64(4.238091960792882), pvalue=np.float64(0.05350454331418722))}, {'evidence.label 23': F_onewayResult(statistic=np.float64(14.017240534972903), pvalue=np.float64(0.0013747883806438297))}, {'evidence.label 24': F_onewayResult(statistic=np.float64(11.252306800373225), pvalue=np.float64(0.003330251656339134))}, {'evidence.label 25': F_onewayResult(statistic=np.float64(27.545063909728484), pvalue=np.float64(4.5792142114777755e-05))}, {'evidence.label 26': F_onewayResult(statistic=np.float64(24.701884278576447), pvalue=np.float64(8.499221342116249e-05))}, {'evidence.label 27': F_onewayResult(statistic=np.float64(7.346088423780437), pvalue=np.float64(0.013875313420754412))}, {'evidence.label 28': F_onewayResult(statistic=np.float64(5.352675343575171), pvalue=np.float64(0.03204691943851089))}, {'evidence.label 29': F_onewayResult(statistic=np.float64(0.5396263105463925), pvalue=np.float64(0.4715574513622638))}, {'evidence.label 30': F_onewayResult(statistic=np.float64(8.337512954563081), pvalue=np.float64(0.00943467094194252))}, {'evidence.label 31': F_onewayResult(statistic=np.float64(17.406914312495854), pvalue=np.float64(0.0003665966472055249))}, {'evidence.label 32': F_onewayResult(statistic=np.float64(0.07904880870153469), pvalue=np.float64(0.7816295982341526))}, {'evidence.label 33': F_onewayResult(statistic=np.float64(6.047029330105621), pvalue=np.float64(0.023694083595895556))}, {'evidence.label 34': F_onewayResult(statistic=np.float64(123.56464187370732), pvalue=np.float64(5.191065138585334e-10))}, {'evidence.label 35': F_onewayResult(statistic=np.float64(6.786535324182479), pvalue=np.float64(0.01582815248392888))}, {'evidence.label 36': F_onewayResult(statistic=np.float64(0.7889819936501836), pvalue=np.float64(0.38551526267447844))}, {'evidence.label 37': F_onewayResult(statistic=np.float64(21.504450022108202), pvalue=np.float64(0.00010444382599367068))}, {'evidence.label 38': F_onewayResult(statistic=np.float64(2.3725520792929498), pvalue=np.float64(0.1384190813800036))}, {'evidence.label 39': F_onewayResult(statistic=np.float64(3.0380862114815077), pvalue=np.float64(0.09749323007395203))}, {'evidence.label 40': F_onewayResult(statistic=np.float64(41.937739631600536), pvalue=np.float64(3.317253999861577e-06))}, {'evidence.label 41': F_onewayResult(statistic=np.float64(0.15098910184275643), pvalue=np.float64(0.7019118519853771))}, {'evidence.label 42': F_onewayResult(statistic=np.float64(0.017900787032028003), pvalue=np.float64(0.8949726151006305))}, {'evidence.label 43': F_onewayResult(statistic=np.float64(1.9670802618200391), pvalue=np.float64(0.1768866889320842))}, {'evidence.label 44': F_onewayResult(statistic=np.float64(84.11672950283833), pvalue=np.float64(2.0799069708217358e-08))}, {'evidence.label 45': F_onewayResult(statistic=np.float64(5.11950184769782), pvalue=np.float64(0.0355671683384056))}, {'evidence.label 46': F_onewayResult(statistic=np.float64(2.734809544446314), pvalue=np.float64(0.11461049525472812))}, {'evidence.label 47': F_onewayResult(statistic=np.float64(6.840250995054191), pvalue=np.float64(0.01701671791700155))}, {'evidence.label 48': F_onewayResult(statistic=np.float64(14.441276219429175), pvalue=np.float64(0.0012093089308014594))}, {'evidence.label 49': F_onewayResult(statistic=np.float64(143.5146808158589), pvalue=np.float64(2.6658082216958324e-10))}, {'evidence.label 50': F_onewayResult(statistic=np.float64(11.490579309430423), pvalue=np.float64(0.003074743720339742))}, {'evidence.label 51': F_onewayResult(statistic=np.float64(29.956369959703594), pvalue=np.float64(2.7935706442530135e-05))}, {'evidence.label 52': F_onewayResult(statistic=np.float64(2.485113903513979), pvalue=np.float64(0.13143252578283188))}, {'evidence.label 53': F_onewayResult(statistic=np.float64(2.4808903263134616), pvalue=np.float64(0.13174153871899488))}, {'evidence.label 54': F_onewayResult(statistic=np.float64(0.10785947932793838), pvalue=np.float64(0.7461863029196576))}, {'evidence.label 55': F_onewayResult(statistic=np.float64(5.440619438163928), pvalue=np.float64(0.03082338113159032))}, {'evidence.label 56': F_onewayResult(statistic=np.float64(3.2904751430554815), pvalue=np.float64(0.08550818724509536))}, {'evidence.label 57': F_onewayResult(statistic=np.float64(46.48086456365672), pvalue=np.float64(1.6528459312716946e-06))}, {'evidence.label 58': F_onewayResult(statistic=np.float64(1.948508587858457), pvalue=np.float64(0.17884666313757797))}, {'evidence.label 59': F_onewayResult(statistic=np.float64(8.472146490806221), pvalue=np.float64(0.008965406354852648))}, {'evidence.label 60': F_onewayResult(statistic=np.float64(57.02484318332967), pvalue=np.float64(3.905876874840053e-07))}, {'evidence.label 61': F_onewayResult(statistic=np.float64(12.058307603537388), pvalue=np.float64(0.002549486040850478))}, {'evidence.label 62': F_onewayResult(statistic=np.float64(6.255996218770629), pvalue=np.float64(0.02168552810700694))}, {'evidence.label 63': F_onewayResult(statistic=np.float64(0.19950685129584333), pvalue=np.float64(0.6601685824774639))}, {'evidence.label 64': F_onewayResult(statistic=np.float64(0.014596115504664036), pvalue=np.float64(0.9051065530891649))}, {'evidence.label 65': F_onewayResult(statistic=np.float64(89.44020161774483), pvalue=np.float64(1.2830212499563025e-08))}, {'evidence.label 66': F_onewayResult(statistic=np.float64(1.266979861477963), pvalue=np.float64(0.27435195278017377))}, {'evidence.label 67': F_onewayResult(statistic=np.float64(0.044295755168186735), pvalue=np.float64(0.8355449649431594))}, {'evidence.label 68': F_onewayResult(statistic=np.float64(17.2420387305742), pvalue=np.float64(0.0005410573166324481))}, {'evidence.label 69': F_onewayResult(statistic=np.float64(4.574803305517831), pvalue=np.float64(0.04564707193932407))}, {'evidence.label 70': F_onewayResult(statistic=np.float64(5.894002839330716), pvalue=np.float64(0.025298554687763142))}, {'evidence.label 71': F_onewayResult(statistic=np.float64(88.72448456572691), pvalue=np.float64(8.566740027576947e-09))}, {'evidence.label 72': F_onewayResult(statistic=np.float64(10.717756003491), pvalue=np.float64(0.0039941463329689775))}, {'evidence.label 73': F_onewayResult(statistic=np.float64(0.7492472731297478), pvalue=np.float64(0.39528520634764464))}, {'evidence.label 74': F_onewayResult(statistic=np.float64(5.368282139169972), pvalue=np.float64(0.03182581913584565))}, {'evidence.label 75': F_onewayResult(statistic=np.float64(37.09532811030406), pvalue=np.float64(7.412182513635132e-06))}, {'evidence.label 76': F_onewayResult(statistic=np.float64(1.684860976355572), pvalue=np.float64(0.2098166767105392))}, {'evidence.label 77': F_onewayResult(statistic=np.float64(2.352691742164718), pvalue=np.float64(0.1415504537941604))}, {'evidence.label 78': F_onewayResult(statistic=np.float64(4.959030035803464), pvalue=np.float64(0.03360841451457967))}, {'evidence.label 79': F_onewayResult(statistic=np.float64(0.10095646340600185), pvalue=np.float64(0.7541503615050096))}, {'evidence.label 80': F_onewayResult(statistic=np.float64(52.241113553490756), pvalue=np.float64(7.314414489692636e-07))}, {'evidence.label 81': F_onewayResult(statistic=np.float64(8.238539168261108), pvalue=np.float64(0.009797200716875806))}, {'evidence.label 82': F_onewayResult(statistic=np.float64(6.8954644733300325), pvalue=np.float64(0.016637597495291593))}, {'evidence.label 83': F_onewayResult(statistic=np.float64(9.14873150221516), pvalue=np.float64(0.006969797514289325))}, {'evidence.label 84': F_onewayResult(statistic=np.float64(16.01088776238974), pvalue=np.float64(0.0007638144928753027))}, {'evidence.label 85': F_onewayResult(statistic=np.float64(3.784543732815953), pvalue=np.float64(0.0666764805330084))}, {'evidence.label 86': F_onewayResult(statistic=np.float64(1.725633747402147), pvalue=np.float64(0.20461155841010123))}, {'evidence.label 87': F_onewayResult(statistic=np.float64(12.594458139052735), pvalue=np.float64(0.0020136892970648926))}, {'evidence.label 88': F_onewayResult(statistic=np.float64(118.02176569039597), pvalue=np.float64(1.3634829780311083e-09))}, {'evidence.label 89': F_onewayResult(statistic=np.float64(93.0816534662103), pvalue=np.float64(9.346197190765154e-09))}, {'evidence.label 90': F_onewayResult(statistic=np.float64(4.005204807508246), pvalue=np.float64(0.05985061117054191))}, {'evidence.label 91': F_onewayResult(statistic=np.float64(40.17202214703225), pvalue=np.float64(4.412379689395837e-06))}, {'evidence.label 92': F_onewayResult(statistic=np.float64(3.137124468336513), pvalue=np.float64(0.09256920705866346))}, {'evidence.label 93': F_onewayResult(statistic=np.float64(28.747594123440077), pvalue=np.float64(3.567268701007685e-05))}, {'evidence.label 94': F_onewayResult(statistic=np.float64(49.957225027219884), pvalue=np.float64(1.0021338640089052e-06))}, {'evidence.label 95': F_onewayResult(statistic=np.float64(6.282579647734076), pvalue=np.float64(0.02144408800350664))}, {'evidence.label 96': F_onewayResult(statistic=np.float64(7.5757159226942195), pvalue=np.float64(0.012668813942073831))}, {'evidence.label 97': F_onewayResult(statistic=np.float64(13.678314346257103), pvalue=np.float64(0.001525225577473948))}, {'evidence.label 98': F_onewayResult(statistic=np.float64(32.823477999074015), pvalue=np.float64(1.6027840330016662e-05))}, {'evidence.label 99': F_onewayResult(statistic=np.float64(3.832493304002908), pvalue=np.float64(0.06511984851580827))}, {'evidence.label 100': F_onewayResult(statistic=np.float64(22.057126147335897), pvalue=np.float64(0.00015715817306971897))}, {'evidence.label 101': F_onewayResult(statistic=np.float64(40.133000350051894), pvalue=np.float64(4.440723245624188e-06))}], 'num_pops': 1})))"
      ]
     },
     "execution_count": 60,
     "metadata": {},
     "output_type": "execute_result"
    }
   ],
   "source": [
    "from mlte.evidence.types.array import Array\n",
    "from mlte.measurement.external_measurement import ExternalMeasurement\n",
    "from demo.scenarios.evidence.multiple_ranksums import MultipleRanksums\n",
    "\n",
    "\n",
    "def calculate_multiple_anova(df_all):\n",
    "    evid: List = []\n",
    "    #print(df_all.columns)\n",
    "\n",
    "    labels = df_all.Label.unique()\n",
    "\n",
    "    for lab in labels:\n",
    "\n",
    "        subset = df_all[df_all['Label'] == lab]\n",
    "        test_vals = subset[subset['dataset'] == 'Test']['label_prob']\n",
    "        dalle_vals = subset[subset['dataset'] == 'DALL-E-2']['label_prob']\n",
    "        \n",
    "        \n",
    "        #f_oneway(test_vals, dalle_vals)\n",
    "\n",
    "        anova_measurement = ExternalMeasurement(\n",
    "            f\"label {lab}\",\n",
    "            Array,\n",
    "            f_oneway,\n",
    "        )\n",
    "        anova: Array = anova_measurement.evaluate(\n",
    "            test_vals,\n",
    "            dalle_vals,\n",
    "        )\n",
    "        #print(f\"blur {blurs[i]}: {ranksum}\")\n",
    "                \n",
    "        evid.append({anova.identifier: anova.array})\n",
    "    return evid\n",
    "\n",
    "\n",
    "    \n",
    "multiple_anova_meas = ExternalMeasurement(\n",
    "    \"running in new domain\",\n",
    "    MultipleRanksums,\n",
    "    calculate_multiple_anova,\n",
    ")\n",
    "multiple_anova: MultipleRanksums = multiple_anova_meas.evaluate(\n",
    "    df_all\n",
    ")\n",
    "\n",
    "multiple_anova.save(force=True)\n",
    "\n",
    "\n",
    "###\n",
    "\n",
    "\n",
    "#multiple_ranksums_meas = ExternalMeasurement(\n",
    "#    f\"effect of blur across families\",\n",
    "#    MultipleRanksums,\n",
    "#    calculate_multiple_ranksums,\n",
    "#)\n",
    "#multiple_ranksums: MultipleRanksums = multiple_ranksums_meas.evaluate(\n",
    "#    df_all, pops, blurs\n",
    "#)\n",
    "#multiple_ranksums.num_pops = len(pops)\n",
    "#multiple_ranksums.save(force=True)"
   ]
  },
  {
   "cell_type": "code",
   "execution_count": null,
   "metadata": {},
   "outputs": [],
   "source": []
  }
 ],
 "metadata": {
  "kernelspec": {
   "display_name": "Python 3 (ipykernel)",
   "language": "python",
   "name": "python3"
  },
  "language_info": {
   "codemirror_mode": {
    "name": "ipython",
    "version": 3
   },
   "file_extension": ".py",
   "mimetype": "text/x-python",
   "name": "python",
   "nbconvert_exporter": "python",
   "pygments_lexer": "ipython3",
   "version": "3.12.11"
  }
 },
 "nbformat": 4,
 "nbformat_minor": 4
}
