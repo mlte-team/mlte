{
 "cells": [
  {
   "attachments": {},
   "cell_type": "markdown",
   "metadata": {},
   "source": [
    "## 2f. Evidence - Interoperability QAS Measurements\n",
    "\n",
    "Measure proper input specification."
   ]
  },
  {
   "attachments": {},
   "cell_type": "markdown",
   "metadata": {},
   "source": [
    "### Initialize MLTE Context\n",
    "\n",
    "MLTE contains a global context that manages the currently active _session_. Initializing the context tells MLTE how to store all of the artifacts that it produces. This import will also set up global constants related to folders and model to use."
   ]
  },
  {
   "cell_type": "code",
   "execution_count": null,
   "metadata": {},
   "outputs": [],
   "source": [
    "# Sets up context for the model being used, sets up constants related to folders and model data to be used.\n",
    "from demo.scenarios.session import *"
   ]
  },
  {
   "cell_type": "markdown",
   "metadata": {},
   "source": [
    "### Helper Functions\n",
    "\n",
    "Prepare all functions and data for the measurements."
   ]
  },
  {
   "cell_type": "code",
   "execution_count": null,
   "metadata": {},
   "outputs": [],
   "source": [
    "# Load model module\n",
    "from demo.scenarios import model_predict\n",
    "\n",
    "\n",
    "def run_and_get_log() -> str:\n",
    "    \"\"\"Runs the model and gets the log.\"\"\"\n",
    "    model_predict.run_model(SAMPLE_DATASET_DIR, MODEL_FILE_PATH)\n",
    "\n",
    "    return model_predict.load_log()"
   ]
  },
  {
   "cell_type": "markdown",
   "metadata": {},
   "source": [
    "### Measurements\n",
    "\n",
    "Finally, we execute the measurements and store the results."
   ]
  },
  {
   "cell_type": "code",
   "execution_count": null,
   "metadata": {},
   "outputs": [],
   "source": [
    "from mlte.measurement.external_measurement import ExternalMeasurement\n",
    "from demo.scenarios.values.string import String\n",
    "\n",
    "# Check input format is okay.\n",
    "measurement = ExternalMeasurement(\n",
    "    \"input format validation success\", String, run_and_get_log\n",
    ")\n",
    "result = measurement.evaluate()\n",
    "# print(result)\n",
    "result.save(force=True)\n",
    "\n",
    "# Check output format is okay.\n",
    "measurement = ExternalMeasurement(\n",
    "    \"output format validation success\", String, run_and_get_log\n",
    ")\n",
    "result = measurement.evaluate()\n",
    "# print(result)\n",
    "result.save(force=True)"
   ]
  },
  {
   "cell_type": "code",
   "execution_count": null,
   "metadata": {},
   "outputs": [],
   "source": []
  }
 ],
 "metadata": {
  "kernelspec": {
   "display_name": "Python 3 (ipykernel)",
   "language": "python",
   "name": "python3"
  },
  "language_info": {
   "codemirror_mode": {
    "name": "ipython",
    "version": 3
   },
   "file_extension": ".py",
   "mimetype": "text/x-python",
   "name": "python",
   "nbconvert_exporter": "python",
   "pygments_lexer": "ipython3",
   "version": "3.12.8"
  }
 },
 "nbformat": 4,
 "nbformat_minor": 4
}
