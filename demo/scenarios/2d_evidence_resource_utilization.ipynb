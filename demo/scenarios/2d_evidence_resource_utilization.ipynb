{
 "cells": [
  {
   "attachments": {},
   "cell_type": "markdown",
   "metadata": {},
   "source": [
    "## 2d. Evidence - Resource Utilization QAS Measurements\n",
    "\n",
    "Now we collect stored, CPU and memory usage data when predicting with the model, for the Performance scenario."
   ]
  },
  {
   "attachments": {},
   "cell_type": "markdown",
   "metadata": {},
   "source": [
    "### Initialize MLTE Context\n",
    "\n",
    "MLTE contains a global context that manages the currently active _session_. Initializing the context tells MLTE how to store all of the artifacts that it produces. This import will also set up global constants related to folders and model to use."
   ]
  },
  {
   "cell_type": "code",
   "execution_count": 1,
   "metadata": {},
   "outputs": [
    {
     "name": "stdout",
     "output_type": "stream",
     "text": [
      "Creating initial custom lists at URI: local:///Users/rbrowersinning/Documents/ResearchFolders/Continuum_LTP/GitRepos/mlte/demo/scenarios/../store\n",
      "Loaded 7 qa_categories for initial list\n",
      "Loaded 30 quality_attributes for initial list\n",
      "Creating sample catalog at URI: StoreType.LOCAL_FILESYSTEM:local:///Users/rbrowersinning/Documents/ResearchFolders/Continuum_LTP/GitRepos/mlte/demo/scenarios/../store\n",
      "Loading sample catalog entries.\n",
      "Loaded 9 entries for sample catalog.\n"
     ]
    }
   ],
   "source": [
    "# Sets up context for the model being used, sets up constants related to folders and model data to be used.\n",
    "from demo.scenarios.session import *"
   ]
  },
  {
   "cell_type": "markdown",
   "metadata": {},
   "source": [
    "### Measurements\n",
    "\n",
    "Prepare and execute measurements."
   ]
  },
  {
   "cell_type": "code",
   "execution_count": 2,
   "metadata": {},
   "outputs": [
    {
     "name": "stdout",
     "output_type": "stream",
     "text": [
      "13.0 byte\n"
     ]
    },
    {
     "data": {
      "text/plain": [
       "ArtifactModel(header=ArtifactHeaderModel(identifier='evidence.model size', type='evidence', timestamp=1759160535, creator=None, level='version'), body=EvidenceModel(artifact_type=<ArtifactType.EVIDENCE: 'evidence'>, metadata=EvidenceMetadata(test_case_id='model size', measurement=MeasurementMetadata(measurement_class='mlte.measurement.storage.local_object_size.LocalObjectSize', output_class='mlte.evidence.types.real.Real', additional_data={})), evidence_class='mlte.evidence.types.real.Real', value=RealValueModel(evidence_type=<EvidenceType.REAL: 'real'>, real=13.0, unit='byte')))"
      ]
     },
     "execution_count": 2,
     "metadata": {},
     "output_type": "execute_result"
    }
   ],
   "source": [
    "from mlte.measurement.storage import LocalObjectSize\n",
    "from mlte.evidence.types.real import Real\n",
    "from mlte.measurement.units import Units\n",
    "\n",
    "store_measurement = LocalObjectSize(\"model size\")\n",
    "size: Real = store_measurement.evaluate(MODELS_DIR, unit=Units.byte)\n",
    "print(size)\n",
    "size.save(force=True)"
   ]
  },
  {
   "cell_type": "code",
   "execution_count": 3,
   "metadata": {},
   "outputs": [
    {
     "name": "stdout",
     "output_type": "stream",
     "text": [
      "Deleting log\n",
      "TensorFlow version: 2.18.0\n",
      "Found 1 files.\n"
     ]
    },
    {
     "name": "stderr",
     "output_type": "stream",
     "text": [
      "Traceback (most recent call last):\n",
      "  File \"/Users/rbrowersinning/Documents/ResearchFolders/Continuum_LTP/GitRepos/mlte/demo/scenarios/model_predict.py\", line 205, in <module>\n",
      "    run_model(image_folder, model_file)\n",
      "  File \"/Users/rbrowersinning/Documents/ResearchFolders/Continuum_LTP/GitRepos/mlte/demo/scenarios/model_predict.py\", line 89, in run_model\n",
      "    loaded_model = tf.keras.models.load_model(model_file)\n",
      "                   ^^^^^^^^^^^^^^^^^^^^^^^^^^^^^^^^^^^^^^\n",
      "  File \"/Users/rbrowersinning/Documents/ResearchFolders/Continuum_LTP/GitRepos/mlte/.venv/lib/python3.12/site-packages/keras/src/saving/saving_api.py\", line 200, in load_model\n",
      "    raise ValueError(\n",
      "ValueError: File not found: filepath=/Users/rbrowersinning/Documents/ResearchFolders/Continuum_LTP/GitRepos/mlte/demo/scenarios/model/oxford_flower_model.keras. Please ensure the file is an accessible `.keras` zip file.\n"
     ]
    },
    {
     "name": "stdout",
     "output_type": "stream",
     "text": [
      "Average: 0.31 percent\n",
      "Minimum: 0.00 percent\n",
      "Maximum: 0.88 percent\n"
     ]
    },
    {
     "data": {
      "text/plain": [
       "ArtifactModel(header=ArtifactHeaderModel(identifier='evidence.predicting cpu', type='evidence', timestamp=1759160589, creator=None, level='version'), body=EvidenceModel(artifact_type=<ArtifactType.EVIDENCE: 'evidence'>, metadata=EvidenceMetadata(test_case_id='predicting cpu', measurement=MeasurementMetadata(measurement_class='mlte.measurement.cpu.local_process_cpu_utilization.LocalProcessCPUUtilization', output_class='mlte.measurement.cpu.local_process_cpu_utilization.CPUStatistics', additional_data={})), evidence_class='mlte.measurement.cpu.local_process_cpu_utilization.CPUStatistics', value=OpaqueValueModel(evidence_type=<EvidenceType.OPAQUE: 'opaque'>, data={'avg': 0.3135384615384615, 'min': 0.0, 'max': 0.88, 'unit': 'percent'})))"
      ]
     },
     "execution_count": 3,
     "metadata": {},
     "output_type": "execute_result"
    }
   ],
   "source": [
    "from mlte.measurement.process_measurement import ProcessMeasurement\n",
    "from mlte.measurement.cpu import LocalProcessCPUUtilization, CPUStatistics\n",
    "\n",
    "cpu_measurement = LocalProcessCPUUtilization(\"predicting cpu\")\n",
    "cpu_stats: CPUStatistics = cpu_measurement.evaluate(MODEL_COMMAND)\n",
    "print(cpu_stats)\n",
    "cpu_stats.save(force=True)"
   ]
  },
  {
   "cell_type": "code",
   "execution_count": 4,
   "metadata": {},
   "outputs": [
    {
     "name": "stdout",
     "output_type": "stream",
     "text": [
      "Deleting log\n",
      "TensorFlow version: 2.18.0\n",
      "Found 1 files.\n"
     ]
    },
    {
     "name": "stderr",
     "output_type": "stream",
     "text": [
      "Traceback (most recent call last):\n",
      "  File \"/Users/rbrowersinning/Documents/ResearchFolders/Continuum_LTP/GitRepos/mlte/demo/scenarios/model_predict.py\", line 205, in <module>\n",
      "    run_model(image_folder, model_file)\n",
      "  File \"/Users/rbrowersinning/Documents/ResearchFolders/Continuum_LTP/GitRepos/mlte/demo/scenarios/model_predict.py\", line 89, in run_model\n",
      "    loaded_model = tf.keras.models.load_model(model_file)\n",
      "                   ^^^^^^^^^^^^^^^^^^^^^^^^^^^^^^^^^^^^^^\n",
      "  File \"/Users/rbrowersinning/Documents/ResearchFolders/Continuum_LTP/GitRepos/mlte/.venv/lib/python3.12/site-packages/keras/src/saving/saving_api.py\", line 200, in load_model\n",
      "    raise ValueError(\n",
      "ValueError: File not found: filepath=/Users/rbrowersinning/Documents/ResearchFolders/Continuum_LTP/GitRepos/mlte/demo/scenarios/model/oxford_flower_model.keras. Please ensure the file is an accessible `.keras` zip file.\n"
     ]
    },
    {
     "name": "stdout",
     "output_type": "stream",
     "text": [
      "Average: 304436 kilobyte\n",
      "Minimum: 448 kilobyte\n",
      "Maximum: 478560 kilobyte\n"
     ]
    },
    {
     "data": {
      "text/plain": [
       "ArtifactModel(header=ArtifactHeaderModel(identifier='evidence.predicting memory', type='evidence', timestamp=1759160606, creator=None, level='version'), body=EvidenceModel(artifact_type=<ArtifactType.EVIDENCE: 'evidence'>, metadata=EvidenceMetadata(test_case_id='predicting memory', measurement=MeasurementMetadata(measurement_class='mlte.measurement.memory.local_process_memory_consumption.LocalProcessMemoryConsumption', output_class='mlte.measurement.memory.local_process_memory_consumption.MemoryStatistics', additional_data={})), evidence_class='mlte.measurement.memory.local_process_memory_consumption.MemoryStatistics', value=OpaqueValueModel(evidence_type=<EvidenceType.OPAQUE: 'opaque'>, data={'avg': 304436, 'min': 448, 'max': 478560, 'unit': 'kilobyte'})))"
      ]
     },
     "execution_count": 4,
     "metadata": {},
     "output_type": "execute_result"
    }
   ],
   "source": [
    "from mlte.measurement.memory import (\n",
    "    LocalProcessMemoryConsumption,\n",
    "    MemoryStatistics,\n",
    ")\n",
    "\n",
    "mem_measurement = LocalProcessMemoryConsumption(\"predicting memory\")\n",
    "mem_stats: MemoryStatistics = mem_measurement.evaluate(MODEL_COMMAND)\n",
    "print(mem_stats)\n",
    "mem_stats.save(force=True)"
   ]
  },
  {
   "cell_type": "markdown",
   "metadata": {},
   "source": [
    "We can also avoid starting the training process twice by using the asynch methods for both measurements. We start the training process once and pass the id to both measurements."
   ]
  },
  {
   "cell_type": "code",
   "execution_count": 5,
   "metadata": {},
   "outputs": [
    {
     "name": "stdout",
     "output_type": "stream",
     "text": [
      "Deleting log\n",
      "TensorFlow version: 2.18.0\n",
      "Found 1 files.\n"
     ]
    },
    {
     "name": "stderr",
     "output_type": "stream",
     "text": [
      "Traceback (most recent call last):\n",
      "  File \"/Users/rbrowersinning/Documents/ResearchFolders/Continuum_LTP/GitRepos/mlte/demo/scenarios/model_predict.py\", line 205, in <module>\n",
      "    run_model(image_folder, model_file)\n",
      "  File \"/Users/rbrowersinning/Documents/ResearchFolders/Continuum_LTP/GitRepos/mlte/demo/scenarios/model_predict.py\", line 89, in run_model\n",
      "    loaded_model = tf.keras.models.load_model(model_file)\n",
      "                   ^^^^^^^^^^^^^^^^^^^^^^^^^^^^^^^^^^^^^^\n",
      "  File \"/Users/rbrowersinning/Documents/ResearchFolders/Continuum_LTP/GitRepos/mlte/.venv/lib/python3.12/site-packages/keras/src/saving/saving_api.py\", line 200, in load_model\n",
      "    raise ValueError(\n",
      "ValueError: File not found: filepath=/Users/rbrowersinning/Documents/ResearchFolders/Continuum_LTP/GitRepos/mlte/demo/scenarios/model/oxford_flower_model.keras. Please ensure the file is an accessible `.keras` zip file.\n"
     ]
    },
    {
     "name": "stdout",
     "output_type": "stream",
     "text": [
      "Average: 1.83 percent\n",
      "Minimum: 0.00 percent\n",
      "Maximum: 5.40 percent\n",
      "Average: 251292 kilobyte\n",
      "Minimum: 32 kilobyte\n",
      "Maximum: 437792 kilobyte\n"
     ]
    },
    {
     "data": {
      "text/plain": [
       "ArtifactModel(header=ArtifactHeaderModel(identifier='evidence.predicting memory', type='evidence', timestamp=1759160618, creator=None, level='version'), body=EvidenceModel(artifact_type=<ArtifactType.EVIDENCE: 'evidence'>, metadata=EvidenceMetadata(test_case_id='predicting memory', measurement=MeasurementMetadata(measurement_class='mlte.measurement.memory.local_process_memory_consumption.LocalProcessMemoryConsumption', output_class='mlte.measurement.memory.local_process_memory_consumption.MemoryStatistics', additional_data={})), evidence_class='mlte.measurement.memory.local_process_memory_consumption.MemoryStatistics', value=OpaqueValueModel(evidence_type=<EvidenceType.OPAQUE: 'opaque'>, data={'avg': 251292, 'min': 32, 'max': 437792, 'unit': 'kilobyte'})))"
      ]
     },
     "execution_count": 5,
     "metadata": {},
     "output_type": "execute_result"
    }
   ],
   "source": [
    "from mlte.measurement.process_measurement import ProcessMeasurement\n",
    "from mlte.measurement.cpu import LocalProcessCPUUtilization, CPUStatistics\n",
    "from mlte.measurement.memory import (\n",
    "    LocalProcessMemoryConsumption,\n",
    "    MemoryStatistics,\n",
    ")\n",
    "\n",
    "# Create measurements\n",
    "cpu_measurement = LocalProcessCPUUtilization(\"predicting cpu\")\n",
    "mem_measurement = LocalProcessMemoryConsumption(\"predicting memory\")\n",
    "\n",
    "# Start the process to measure.\n",
    "pid = ProcessMeasurement.start_script(MODEL_COMMAND[1], MODEL_COMMAND[2:])\n",
    "\n",
    "# Execute the measurements\n",
    "cpu_measurement.evaluate_async(pid)\n",
    "mem_measurement.evaluate_async(pid)\n",
    "cpu_stats: CPUStatistics = cpu_measurement.wait_for_output()\n",
    "mem_stats: MemoryStatistics = mem_measurement.wait_for_output()\n",
    "\n",
    "# Inspect values\n",
    "print(cpu_stats)\n",
    "print(mem_stats)\n",
    "\n",
    "# Save to artifact store\n",
    "cpu_stats.save(force=True)\n",
    "mem_stats.save(force=True)"
   ]
  },
  {
   "cell_type": "code",
   "execution_count": null,
   "metadata": {},
   "outputs": [],
   "source": []
  }
 ],
 "metadata": {
  "kernelspec": {
   "display_name": "Python 3 (ipykernel)",
   "language": "python",
   "name": "python3"
  },
  "language_info": {
   "codemirror_mode": {
    "name": "ipython",
    "version": 3
   },
   "file_extension": ".py",
   "mimetype": "text/x-python",
   "name": "python",
   "nbconvert_exporter": "python",
   "pygments_lexer": "ipython3",
   "version": "3.12.11"
  }
 },
 "nbformat": 4,
 "nbformat_minor": 4
}
