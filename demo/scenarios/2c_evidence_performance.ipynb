{
 "cells": [
  {
   "attachments": {},
   "cell_type": "markdown",
   "metadata": {},
   "source": [
    "## 2c. Evidence - Performance QAS Measurements\n",
    "\n",
    "Now we collect stored, CPU and memory usage data when predicting with the model, for the Performance scenario."
   ]
  },
  {
   "attachments": {},
   "cell_type": "markdown",
   "metadata": {},
   "source": [
    "### Initialize MLTE Context\n",
    "\n",
    "MLTE contains a global context that manages the currently active _session_. Initializing the context tells MLTE how to store all of the artifacts that it produces. This import will also set up global constants related to folders and model to use."
   ]
  },
  {
   "cell_type": "code",
   "execution_count": null,
   "metadata": {},
   "outputs": [],
   "source": [
    "# Sets up context for the model being used, sets up constants related to folders and model data to be used.\n",
    "from demo.scenarios.session import *"
   ]
  },
  {
   "cell_type": "markdown",
   "metadata": {},
   "source": [
    "### Measurements\n",
    "\n",
    "Prepare and execute measurements."
   ]
  },
  {
   "cell_type": "code",
   "execution_count": null,
   "metadata": {},
   "outputs": [],
   "source": [
    "from mlte.measurement.storage import LocalObjectSize\n",
    "from mlte.evidence.types.integer import Integer\n",
    "\n",
    "store_measurement = LocalObjectSize(\"model size\")\n",
    "size: Integer = store_measurement.evaluate(MODELS_DIR)\n",
    "print(size)\n",
    "size.save(force=True)"
   ]
  },
  {
   "cell_type": "code",
   "execution_count": null,
   "metadata": {},
   "outputs": [],
   "source": [
    "from mlte.measurement.process_measurement import ProcessMeasurement\n",
    "from mlte.measurement.cpu import LocalProcessCPUUtilization, CPUStatistics\n",
    "\n",
    "cpu_measurement = LocalProcessCPUUtilization(\"predicting cpu\")\n",
    "cpu_stats: CPUStatistics = cpu_measurement.evaluate(\n",
    "    ProcessMeasurement.start_script(MODEL_SCRIPT, MODEL_ARGS)\n",
    ")\n",
    "print(cpu_stats)\n",
    "cpu_stats.save(force=True)"
   ]
  },
  {
   "cell_type": "code",
   "execution_count": null,
   "metadata": {},
   "outputs": [],
   "source": [
    "from mlte.measurement.memory import (\n",
    "    LocalProcessMemoryConsumption,\n",
    "    MemoryStatistics,\n",
    ")\n",
    "\n",
    "mem_measurement = LocalProcessMemoryConsumption(\"predicting memory\")\n",
    "mem_stats: MemoryStatistics = mem_measurement.evaluate(\n",
    "    ProcessMeasurement.start_script(MODEL_SCRIPT, MODEL_ARGS)\n",
    ")\n",
    "print(mem_stats)\n",
    "mem_stats.save(force=True)"
   ]
  }
 ],
 "metadata": {
  "kernelspec": {
   "display_name": "Python 3 (ipykernel)",
   "language": "python",
   "name": "python3"
  },
  "language_info": {
   "codemirror_mode": {
    "name": "ipython",
    "version": 3
   },
   "file_extension": ".py",
   "mimetype": "text/x-python",
   "name": "python",
   "nbconvert_exporter": "python",
   "pygments_lexer": "ipython3",
   "version": "3.12.8"
  }
 },
 "nbformat": 4,
 "nbformat_minor": 4
}
