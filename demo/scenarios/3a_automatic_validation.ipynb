{
 "cells": [
  {
   "cell_type": "markdown",
   "id": "91d54e5b-a922-4cbf-bbdd-c9dfd09d4203",
   "metadata": {},
   "source": [
    "## 3a. Automatic Validation\n",
    "\n",
    "The final phase of SDMT involves aggregating evidence, validating the metrics reflected by the evidence we collected, and displaying this information in a report. In this first step, we will do the automatic validation of the test cases against the `Evidence` we have collected.\n"
   ]
  },
  {
   "cell_type": "markdown",
   "id": "5f67ba90-471d-494c-bae0-3796371ccfd9",
   "metadata": {},
   "source": [
    "### Initialize MLTE Context\n",
    "\n",
    "MLTE contains a global context that manages the currently active session. Initializing the context tells MLTE how to store all of the artifacts that it produces. This import will also set up global constants related to folders and model to use.\n"
   ]
  },
  {
   "cell_type": "code",
   "execution_count": null,
   "id": "b3e6b003-2c97-4db1-87ed-5beb57ff2958",
   "metadata": {},
   "outputs": [],
   "source": [
    "# Sets up context for the model being used, sets up constants related to folders and model data to be used.\n",
    "from demo.scenarios.session import *"
   ]
  },
  {
   "cell_type": "markdown",
   "id": "2c91ce96",
   "metadata": {},
   "source": [
    "### Automatic Validation\n",
    "\n",
    "Now run the automatic validation for all test cases, given the collected `Evidence` in the store."
   ]
  },
  {
   "cell_type": "code",
   "execution_count": null,
   "id": "d50bf4cd-f9c5-4a5e-8bff-d4e3879aa0f3",
   "metadata": {},
   "outputs": [],
   "source": [
    "from mlte.validation.test_suite_validator import TestSuiteValidator\n",
    "\n",
    "# Load validator for default TestSuite id\n",
    "test_suite_validator = TestSuiteValidator()\n",
    "\n",
    "# Load all Evidence and validate TestCases\n",
    "test_results = test_suite_validator.load_and_validate()\n",
    "\n",
    "# We want to see the validation results in the Notebook, regardless of them being saved.\n",
    "test_results.print_results()\n",
    "\n",
    "# TestResults also supports persistence\n",
    "test_results.save(force=True)"
   ]
  }
 ],
 "metadata": {
  "kernelspec": {
   "display_name": ".venv",
   "language": "python",
   "name": "python3"
  },
  "language_info": {
   "codemirror_mode": {
    "name": "ipython",
    "version": 3
   },
   "file_extension": ".py",
   "mimetype": "text/x-python",
   "name": "python",
   "nbconvert_exporter": "python",
   "pygments_lexer": "ipython3",
   "version": "3.12.11"
  }
 },
 "nbformat": 4,
 "nbformat_minor": 5
}
