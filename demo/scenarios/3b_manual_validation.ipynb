{
 "cells": [
  {
   "cell_type": "markdown",
   "id": "91d54e5b-a922-4cbf-bbdd-c9dfd09d4203",
   "metadata": {},
   "source": [
    "## 3b. Manual Validation - Adding Success/Failure validation to qualitative QAS\n",
    "\n",
    "Evidence collected in this section checks for theTest Repeatability scenario defined in the previous step. Note that some functions will be loaded from external Python files."
   ]
  },
  {
   "cell_type": "code",
   "execution_count": null,
   "id": "b3e6b003-2c97-4db1-87ed-5beb57ff2958",
   "metadata": {},
   "outputs": [],
   "source": [
    "# Sets up context for the model being used, sets up constants related to folders and model data to be used.\n",
    "from demo.scenarios.session import *"
   ]
  },
  {
   "cell_type": "code",
   "execution_count": null,
   "id": "20445b8d-74d3-4117-bd67-597d9eed3cc4",
   "metadata": {},
   "outputs": [],
   "source": [
    "from mlte.validation.test_suite_validator import TestSuiteValidator\n",
    "from mlte.results.test_results import TestResults\n",
    "from mlte.tests.test_suite import TestSuite\n",
    "\n",
    "#laod test results\n",
    "\n",
    "test_results = TestResults.load()\n",
    "\n",
    "test_results.print_results(result_type=\"Info\")\n"
   ]
  },
  {
   "cell_type": "code",
   "execution_count": null,
   "id": "650fa20c-49fb-49fb-90f2-02d3a00249ed",
   "metadata": {},
   "outputs": [],
   "source": [
    "from mlte.results.result import Success\n",
    "from mlte.results.result import Failure\n",
    "\n",
    "#Testability QA Result\n",
    "test_results.convert_result(\n",
    "    test_case_id=\"test results from dev and op env\", \n",
    "    result_type=Success,\n",
    "    message=\"Visual inspection confirms dresults are only 0.2% different\",\n",
    ")\n",
    "\n",
    "#Understandability QA Result\n",
    "test_results.convert_result(\n",
    "    test_case_id=\"understanding design choices\", \n",
    "    result_type=Success,\n",
    "    message=\"An outside developer was able to understand the code and documenation in 2 person days\",\n",
    ")\n",
    "\n",
    "#Maintainability QA Result\n",
    "test_results.convert_result(\n",
    "    test_case_id=\"keep ML component up to date\", \n",
    "    result_type=Success,\n",
    "    message=\"A new ML model, trained on updated training data and using updated lables, took 4 hrs to produce\",\n",
    ")\n",
    "\n",
    "#Modifiability QA Result\n",
    "test_results.convert_result(\n",
    "    test_case_id=\"update data pipelines\", \n",
    "    result_type=Failure,\n",
    "    message=\"Updating the the model to use a new sensor took 5 hours\",\n",
    ")\n",
    "\n",
    "#Replaceability QA Result\n",
    "test_results.convert_result(\n",
    "    test_case_id=\"update ML training algorithm\", \n",
    "    result_type=Failure,\n",
    "    message=\"A new algorithm was used to generate a newly retrained model in 4 person days\",\n",
    ")\n",
    "\n",
    "#Retrainability QA Result\n",
    "test_results.convert_result(\n",
    "    test_case_id=\"retrain ML model\", \n",
    "    result_type=Success,\n",
    "    message=\"The model was retrained on the same training data and labels with the same algorithm in 45 minutes\",\n",
    ")\n",
    "\n",
    "#Reuseability QA Result\n",
    "test_results.convert_result(\n",
    "    test_case_id=\"reuse ML component\", \n",
    "    result_type=Success,\n",
    "    message=\"The ML component was successfully reused in the new app with less than 1/2 day development time\",\n",
    ")\n",
    "\n",
    "\n",
    "test_results.print_results()\n",
    "test_results.save(force=True)\n",
    "\n"
   ]
  },
  {
   "cell_type": "code",
   "execution_count": null,
   "id": "9cd941a2-1bac-4e5d-b275-b11ff07a3413",
   "metadata": {},
   "outputs": [],
   "source": []
  },
  {
   "cell_type": "code",
   "execution_count": null,
   "id": "8bfdd42d-b672-4bf2-b907-b83b3c40fc28",
   "metadata": {},
   "outputs": [],
   "source": []
  }
 ],
 "metadata": {
  "kernelspec": {
   "display_name": ".venv",
   "language": "python",
   "name": "python3"
  },
  "language_info": {
   "codemirror_mode": {
    "name": "ipython",
    "version": 3
   },
   "file_extension": ".py",
   "mimetype": "text/x-python",
   "name": "python",
   "nbconvert_exporter": "python",
   "pygments_lexer": "ipython3",
   "version": "3.12.11"
  }
 },
 "nbformat": 4,
 "nbformat_minor": 5
}
