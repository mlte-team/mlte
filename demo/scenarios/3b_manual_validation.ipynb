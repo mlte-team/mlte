{
 "cells": [
  {
   "cell_type": "markdown",
   "id": "91d54e5b-a922-4cbf-bbdd-c9dfd09d4203",
   "metadata": {},
   "source": [
    "## 3b. Manual Validation - Adding Success/Failure validation to qualitative QAS\n",
    "\n",
    "Some test cases require Evidence that can't be gathered by the tool, so we want to define that outside of the tool, and then manually mark them as Success or Failure. Note that some functions will be loaded from external Python files."
   ]
  },
  {
   "cell_type": "code",
   "execution_count": null,
   "id": "b3e6b003-2c97-4db1-87ed-5beb57ff2958",
   "metadata": {},
   "outputs": [],
   "source": [
    "# Sets up context for the model being used, sets up constants related to folders and model data to be used.\n",
    "from demo.scenarios.session import *"
   ]
  },
  {
   "cell_type": "code",
   "execution_count": null,
   "id": "20445b8d-74d3-4117-bd67-597d9eed3cc4",
   "metadata": {},
   "outputs": [],
   "source": [
    "from mlte.results.test_results import TestResults\n",
    "\n",
    "# Load test results\n",
    "test_results = TestResults.load()\n",
    "\n",
    "# See which are marked as Info (not validated)\n",
    "test_results.print_results(result_type=\"Info\")"
   ]
  },
  {
   "cell_type": "markdown",
   "id": "4756d6ce",
   "metadata": {},
   "source": [
    "Now we will manually validate all cases that we know were not validated automatically."
   ]
  },
  {
   "cell_type": "code",
   "execution_count": null,
   "id": "650fa20c-49fb-49fb-90f2-02d3a00249ed",
   "metadata": {},
   "outputs": [],
   "source": [
    "from mlte.results.result import Success\n",
    "from mlte.results.result import Failure\n",
    "\n",
    "# Testability QA Result\n",
    "test_results.convert_result(\n",
    "    test_case_id=\"test results from dev and op env\",\n",
    "    result_type=Success,\n",
    "    message=\"Visual inspection confirms dresults are only 0.2% different\",\n",
    ")\n",
    "\n",
    "# Understandability QA Result\n",
    "test_results.convert_result(\n",
    "    test_case_id=\"understanding design choices\",\n",
    "    result_type=Success,\n",
    "    message=\"An outside developer was able to understand the code and documenation in 2 person days\",\n",
    ")\n",
    "\n",
    "# Maintainability QA Result\n",
    "test_results.convert_result(\n",
    "    test_case_id=\"keep ML component up to date\",\n",
    "    result_type=Success,\n",
    "    message=\"A new ML model, trained on updated training data and using updated lables, took 4 hrs to produce\",\n",
    ")\n",
    "\n",
    "# Modifiability QA Result\n",
    "test_results.convert_result(\n",
    "    test_case_id=\"update data pipelines\",\n",
    "    result_type=Failure,\n",
    "    message=\"Updating the the model to use a new sensor took 5 hours\",\n",
    ")\n",
    "\n",
    "# Replaceability QA Result\n",
    "test_results.convert_result(\n",
    "    test_case_id=\"update ML training algorithm\",\n",
    "    result_type=Failure,\n",
    "    message=\"A new algorithm was used to generate a newly retrained model in 4 person days\",\n",
    ")\n",
    "\n",
    "# Retrainability QA Result\n",
    "test_results.convert_result(\n",
    "    test_case_id=\"retrain ML model\",\n",
    "    result_type=Success,\n",
    "    message=\"The model was retrained on the same training data and labels with the same algorithm in 45 minutes\",\n",
    ")\n",
    "\n",
    "# Reuseability QA Result\n",
    "test_results.convert_result(\n",
    "    test_case_id=\"reuse ML component\",\n",
    "    result_type=Success,\n",
    "    message=\"The ML component was successfully reused in the new app with less than 1/2 day development time\",\n",
    ")\n",
    "\n",
    "\n",
    "test_results.print_results()\n",
    "test_results.save(force=True)"
   ]
  }
 ],
 "metadata": {
  "kernelspec": {
   "display_name": ".venv",
   "language": "python",
   "name": "python3"
  },
  "language_info": {
   "codemirror_mode": {
    "name": "ipython",
    "version": 3
   },
   "file_extension": ".py",
   "mimetype": "text/x-python",
   "name": "python",
   "nbconvert_exporter": "python",
   "pygments_lexer": "ipython3",
   "version": "3.12.11"
  }
 },
 "nbformat": 4,
 "nbformat_minor": 5
}
