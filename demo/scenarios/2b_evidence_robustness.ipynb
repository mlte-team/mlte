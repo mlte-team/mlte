{
 "cells": [
  {
   "attachments": {},
   "cell_type": "markdown",
   "metadata": {},
   "source": [
    "## 2b. Evidence - Robustness QAS Measurements\n",
    "\n",
    "Evidence collected in this section checks for the Robustness scenarios defined in the previous step. Note that some functions will be loaded from external Python files."
   ]
  },
  {
   "attachments": {},
   "cell_type": "markdown",
   "metadata": {},
   "source": [
    "### Initialize MLTE Context\n",
    "\n",
    "MLTE contains a global context that manages the currently active _session_. Initializing the context tells MLTE how to store all of the artifacts that it produces. This import will also set up global constants related to folders and model to use."
   ]
  },
  {
   "cell_type": "code",
   "execution_count": null,
   "metadata": {},
   "outputs": [],
   "source": [
    "# Sets up context for the model being used, sets up constants related to folders and model data to be used.\n",
    "from demo.scenarios.session import *"
   ]
  },
  {
   "cell_type": "markdown",
   "metadata": {},
   "source": [
    "### Helper Functions\n",
    "\n",
    "General functions and external imports."
   ]
  },
  {
   "cell_type": "code",
   "execution_count": null,
   "metadata": {},
   "outputs": [],
   "source": [
    "# General functions.\n",
    "from demo.scenarios import garden\n",
    "import pandas as pd\n",
    "\n",
    "\n",
    "def calculate_base_accuracy(df_results: pd.DataFrame) -> pd.DataFrame:\n",
    "    # Calculate the base model accuracy result per data label\n",
    "    df_pos = (\n",
    "        df_results[df_results[\"model correct\"] == True].groupby(\"label\").count()\n",
    "    )\n",
    "    df_pos.drop(columns=[\"prediced_label\"], inplace=True)\n",
    "    df_neg = (\n",
    "        df_results[df_results[\"model correct\"] == False]\n",
    "        .groupby(\"label\")\n",
    "        .count()\n",
    "    )\n",
    "    df_neg.drop(columns=[\"prediced_label\"], inplace=True)\n",
    "    df_neg.rename(columns={\"model correct\": \"model incorrect\"}, inplace=True)\n",
    "    df_res = df_pos.merge(\n",
    "        df_neg, right_on=\"label\", left_on=\"label\", how=\"outer\"\n",
    "    )\n",
    "    df_res.fillna(0, inplace=True)\n",
    "    df_res[\"model acc\"] = df_res[\"model correct\"] / (\n",
    "        df_res[\"model correct\"] + df_res[\"model incorrect\"]\n",
    "    )\n",
    "    df_res[\"count\"] = df_res[\"model correct\"] + df_res[\"model incorrect\"]\n",
    "    df_res.drop(columns=[\"model correct\", \"model incorrect\"], inplace=True)\n",
    "    df_res.head()\n",
    "\n",
    "    return df_res\n",
    "\n",
    "\n",
    "def calculate_accuracy_per_set(\n",
    "    data_folder: str, df_results: pd.DataFrame, df_res: pd.DataFrame\n",
    ") -> pd.DataFrame:\n",
    "    # Calculate the model accuracy per data label for each blurred data set\n",
    "    base_filename = \"predictions_test\"\n",
    "    ext_filename = \".csv\"\n",
    "    set_filename = [\"_blur2x8\", \"_blur5x8\", \"_blur0x8\", \"_noR\", \"_noG\", \"_noB\"]\n",
    "\n",
    "    col_root = \"model acc\"\n",
    "\n",
    "    for fs in set_filename:\n",
    "        filename = os.path.join(data_folder, base_filename + fs + ext_filename)\n",
    "        colname = col_root + fs\n",
    "\n",
    "        df_temp = pd.read_csv(filename)\n",
    "        df_temp.drop(columns=[\"Unnamed: 0\"], inplace=True)\n",
    "\n",
    "        df_pos = (\n",
    "            df_temp[df_temp[\"model correct\"] == True].groupby(\"label\").count()\n",
    "        )\n",
    "        df_pos.drop(columns=[\"prediced_label\"], inplace=True)\n",
    "        df_neg = (\n",
    "            df_results[df_results[\"model correct\"] == False]\n",
    "            .groupby(\"label\")\n",
    "            .count()\n",
    "        )\n",
    "        df_neg.drop(columns=[\"prediced_label\"], inplace=True)\n",
    "        df_neg.rename(\n",
    "            columns={\"model correct\": \"model incorrect\"}, inplace=True\n",
    "        )\n",
    "        df_res2 = df_pos.merge(\n",
    "            df_neg, right_on=\"label\", left_on=\"label\", how=\"outer\"\n",
    "        )\n",
    "        df_res2.fillna(0, inplace=True)\n",
    "\n",
    "        df_res2[colname] = df_res2[\"model correct\"] / (\n",
    "            df_res2[\"model correct\"] + df_res2[\"model incorrect\"]\n",
    "        )\n",
    "        df_res2.drop(columns=[\"model correct\", \"model incorrect\"], inplace=True)\n",
    "\n",
    "        df_res = df_res.merge(\n",
    "            df_res2, right_on=\"label\", left_on=\"label\", how=\"outer\"\n",
    "        )\n",
    "\n",
    "    df_res.head()\n",
    "    return df_res\n",
    "\n",
    "\n",
    "def print_model_accuracy(df_res: pd.DataFrame, key: str, name: str):\n",
    "    model_acc = sum(df_res[key] * df_res[\"count\"]) / sum(df_res[\"count\"])\n",
    "    print(name, model_acc)"
   ]
  },
  {
   "cell_type": "code",
   "execution_count": null,
   "metadata": {},
   "outputs": [],
   "source": [
    "# Prepare all data. Same as the case above, we will use CSV files that contain results of a previous execution of the model.\n",
    "df_results = garden.load_base_results(DATASETS_DIR)\n",
    "df_res = calculate_base_accuracy(df_results)\n",
    "df_res = calculate_accuracy_per_set(DATASETS_DIR, df_results, df_res)\n",
    "df_info = garden.load_taxonomy(DATASETS_DIR)\n",
    "df_all = garden.merge_taxonomy_with_results(df_res, df_info, \"label\", \"Label\")\n",
    "\n",
    "# fill in missing model accuracy data\n",
    "df_all[\"model acc_noR\"].fillna(0, inplace=True)\n",
    "df_all[\"model acc_noG\"].fillna(0, inplace=True)\n",
    "df_all[\"model acc_noB\"].fillna(0, inplace=True)"
   ]
  },
  {
   "cell_type": "markdown",
   "metadata": {},
   "source": [
    "### Measurements\n",
    "\n",
    "Now do the actual measurements. First simply see the model accuracy across blurs."
   ]
  },
  {
   "cell_type": "code",
   "execution_count": null,
   "metadata": {},
   "outputs": [],
   "source": [
    "# view changes in model accuracy\n",
    "print_model_accuracy(df_res, \"model acc\", \"base model accuracy\")\n",
    "print_model_accuracy(\n",
    "    df_res, \"model acc_blur2x8\", \"model accuracy with 2x8 blur\"\n",
    ")\n",
    "print_model_accuracy(\n",
    "    df_res, \"model acc_blur5x8\", \"model accuracy with 5x8 blur\"\n",
    ")\n",
    "print_model_accuracy(\n",
    "    df_res, \"model acc_blur0x8\", \"model accuracy with 0x8 blur\"\n",
    ")"
   ]
  },
  {
   "cell_type": "markdown",
   "metadata": {},
   "source": [
    "Measure the ranksums (p-value) for all blur cases, using `scipy.stats.ranksums` and the `ExternalMeasurement` wrapper."
   ]
  },
  {
   "cell_type": "code",
   "execution_count": null,
   "metadata": {},
   "outputs": [],
   "source": [
    "import scipy.stats\n",
    "\n",
    "from demo.scenarios.values.ranksums import RankSums\n",
    "from mlte.measurement.external_measurement import ExternalMeasurement\n",
    "\n",
    "my_blur = [\"2x8\", \"5x8\", \"0x8\"]\n",
    "for i in range(len(my_blur)):\n",
    "    # Define measurements.\n",
    "    ranksum_measurement = ExternalMeasurement(\n",
    "        f\"ranksums blur{my_blur[i]}\", RankSums, scipy.stats.ranksums\n",
    "    )\n",
    "\n",
    "    # Evaluate.\n",
    "    ranksum: RankSums = ranksum_measurement.evaluate(\n",
    "        df_res[\"model acc\"], df_res[f\"model acc_blur{my_blur[i]}\"]\n",
    "    )\n",
    "\n",
    "    # Inspect values\n",
    "    print(ranksum)\n",
    "\n",
    "    # Save to artifact store\n",
    "    ranksum.save(force=True)"
   ]
  },
  {
   "cell_type": "markdown",
   "metadata": {},
   "source": [
    "Now to next part of the question- is this equal across the phylogenic groups?"
   ]
  },
  {
   "cell_type": "markdown",
   "metadata": {},
   "source": [
    "First we will check the effect of blur for Clade 2."
   ]
  },
  {
   "cell_type": "code",
   "execution_count": null,
   "metadata": {},
   "outputs": [],
   "source": [
    "from typing import List\n",
    "\n",
    "from demo.scenarios.values.multiple_ranksums import MultipleRanksums\n",
    "\n",
    "# use the initial result, blur columns to anaylze effect of blur\n",
    "df_all[\"delta_2x8\"] = df_all[\"model acc\"] - df_all[\"model acc_blur2x8\"]\n",
    "df_all[\"delta_5x8\"] = df_all[\"model acc\"] - df_all[\"model acc_blur5x8\"]\n",
    "df_all[\"delta_0x8\"] = df_all[\"model acc\"] - df_all[\"model acc_blur0x8\"]\n",
    "\n",
    "pops = df_all[\"Clade2\"].unique().tolist()\n",
    "blurs = [\n",
    "    \"delta_2x8\",\n",
    "    \"delta_5x8\",\n",
    "    \"delta_0x8\",\n",
    "]\n",
    "\n",
    "ranksums: List = []\n",
    "for i in range(len(blurs)):\n",
    "    for pop1 in pops:\n",
    "        for pop2 in pops:\n",
    "            ranksum_measurement = ExternalMeasurement(\n",
    "                f\"ranksums clade2 {pop1}-{pop2} blur{blurs[i]}\",\n",
    "                RankSums,\n",
    "                scipy.stats.ranksums,\n",
    "            )\n",
    "            ranksum: RankSums = ranksum_measurement.evaluate(\n",
    "                df_all[df_all[\"Clade2\"] == pop1][blurs[i]],\n",
    "                df_all[df_all[\"Clade2\"] == pop2][blurs[i]],\n",
    "            )\n",
    "            print(f\"blur {blurs[i]}: {ranksum}\")\n",
    "            ranksums.append({ranksum.identifier: ranksum.array})\n",
    "\n",
    "multiple_ranksums_meas = ExternalMeasurement(\n",
    "    f\"multiple ranksums for clade2\", MultipleRanksums, lambda x: x\n",
    ")\n",
    "multiple_ranksums: MultipleRanksums = multiple_ranksums_meas.evaluate(ranksums)\n",
    "multiple_ranksums.num_pops = len(pops)\n",
    "multiple_ranksums.save(force=True)"
   ]
  },
  {
   "cell_type": "markdown",
   "metadata": {},
   "source": [
    "Now we check between clade 2 and clade 3."
   ]
  },
  {
   "cell_type": "code",
   "execution_count": null,
   "metadata": {},
   "outputs": [],
   "source": [
    "df_now = (\n",
    "    df_all[[\"Clade2\", \"Clade 3\"]]\n",
    "    .copy()\n",
    "    .groupby([\"Clade2\", \"Clade 3\"])\n",
    "    .count()\n",
    "    .reset_index()\n",
    ")\n",
    "ps1 = df_now[\"Clade2\"].to_list()\n",
    "ps2 = df_now[\"Clade 3\"].to_list()\n",
    "print(df_now)\n",
    "\n",
    "ranksums: List = []\n",
    "for k in range(len(blurs)):\n",
    "    print(\"\\n\", blurs[k])\n",
    "    for i in range(len(ps1)):\n",
    "        p1c1 = ps1[i]\n",
    "        p1c2 = ps2[i]\n",
    "        for j in range(len(ps1)):\n",
    "            p2c1 = ps1[j]\n",
    "            p2c2 = ps2[j]\n",
    "            if (\n",
    "                len(\n",
    "                    df_all[\n",
    "                        (df_all[\"Clade2\"] == p1c1) & (df_all[\"Clade 3\"] == p2c2)\n",
    "                    ][blurs[k]]\n",
    "                )\n",
    "                > 0\n",
    "                | len(\n",
    "                    df_all[\n",
    "                        (df_all[\"Clade2\"] == p2c1) & (df_all[\"Clade 3\"] == p2c2)\n",
    "                    ][blurs[k]]\n",
    "                )\n",
    "                > 0\n",
    "            ):\n",
    "                ranksum_measurement = ExternalMeasurement(\n",
    "                    f\"ranksums {p1c1}-{p2c2} - {p2c1}-{p2c2} blur{blurs[k]}\",\n",
    "                    RankSums,\n",
    "                    scipy.stats.ranksums,\n",
    "                )\n",
    "                ranksum: RankSums = ranksum_measurement.evaluate(\n",
    "                    df_all[\n",
    "                        (df_all[\"Clade2\"] == p1c1) & (df_all[\"Clade 3\"] == p2c2)\n",
    "                    ][blurs[k]],\n",
    "                    df_all[\n",
    "                        (df_all[\"Clade2\"] == p2c1) & (df_all[\"Clade 3\"] == p2c2)\n",
    "                    ][blurs[k]],\n",
    "                )\n",
    "                ranksums.append({ranksum.identifier: ranksum.array})\n",
    "\n",
    "multiple_ranksums_meas = ExternalMeasurement(\n",
    "    f\"multiple ranksums between clade2 and 3\", MultipleRanksums, lambda x: x\n",
    ")\n",
    "multiple_ranksums: MultipleRanksums = multiple_ranksums_meas.evaluate(ranksums)\n",
    "multiple_ranksums.num_pops = len(ps1)\n",
    "multiple_ranksums.save(force=True)"
   ]
  }
 ],
 "metadata": {
  "kernelspec": {
   "display_name": "Python 3 (ipykernel)",
   "language": "python",
   "name": "python3"
  },
  "language_info": {
   "codemirror_mode": {
    "name": "ipython",
    "version": 3
   },
   "file_extension": ".py",
   "mimetype": "text/x-python",
   "name": "python",
   "nbconvert_exporter": "python",
   "pygments_lexer": "ipython3",
   "version": "3.12.8"
  }
 },
 "nbformat": 4,
 "nbformat_minor": 4
}
