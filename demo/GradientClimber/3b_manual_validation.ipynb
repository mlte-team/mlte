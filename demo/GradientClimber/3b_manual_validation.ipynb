{
 "cells": [
  {
   "cell_type": "markdown",
   "id": "2f9a0bb9",
   "metadata": {},
   "source": [
    "## 3b. Manual Validation - Adding Success/Failure validation to qualitative QAS\n",
    "\n",
    "Some test cases require Evidence that can't be gathered by the tool, so we want to define that outside of the tool, and then manually mark them as Success or Failure. Note that some functions will be loaded from external Python files."
   ]
  },
  {
   "cell_type": "code",
   "execution_count": null,
   "id": "dd1e30f8",
   "metadata": {},
   "outputs": [],
   "source": [
    "# Sets up context for the model being used, sets up constants related to folders and model data to be used.\n",
    "from demo.scenarios.session import *"
   ]
  },
  {
   "cell_type": "code",
   "execution_count": null,
   "id": "a1b0ef97",
   "metadata": {},
   "outputs": [],
   "source": [
    "from mlte.results.test_results import TestResults\n",
    "\n",
    "# Load test results\n",
    "test_results = TestResults.load()\n",
    "\n",
    "# See which are marked as Info (not validated)\n",
    "test_results.print_results(result_type=\"Info\")"
   ]
  },
  {
   "cell_type": "markdown",
   "id": "d4ae484f",
   "metadata": {},
   "source": [
    "Now we will manually validate all cases that we know were not validated automatically."
   ]
  },
  {
   "cell_type": "code",
   "execution_count": null,
   "id": "de7714f7",
   "metadata": {},
   "outputs": [],
   "source": [
    "from mlte.results.result import Success\n",
    "from mlte.results.result import Failure\n",
    "\n",
    "MANUAL_VALIDATION = [\n",
    "    {\n",
    "        \"id\":\"interpretability\",\n",
    "        \"result\":Success,\n",
    "        \"message\":\"Model output is from the RL Gym mountain car example which can only produce 0,1 or 2 as output.\"\n",
    "    },{\n",
    "        \"id\":\"deployability\",\n",
    "        \"result\":Success,\n",
    "        \"message\":\"Verified that the q-table file is available and of a manageable size.\"\n",
    "    },{\n",
    "        \"id\":\"portability\",\n",
    "        \"result\":Success,\n",
    "        \"message\":\"Data is in the form of an npy file which is portable by design.\"\n",
    "    }\n",
    "]\n",
    "\n",
    "for r in MANUAL_VALIDATION:\n",
    "    test_results.convert_result(\n",
    "        test_case_id=r['id'],\n",
    "        result_type=r['result'],\n",
    "        message=r['message']\n",
    "    )\n",
    "\n",
    "test_results.print_results()\n",
    "test_results.save(force=True)"
   ]
  }
 ],
 "metadata": {
  "language_info": {
   "name": "python"
  }
 },
 "nbformat": 4,
 "nbformat_minor": 5
}
