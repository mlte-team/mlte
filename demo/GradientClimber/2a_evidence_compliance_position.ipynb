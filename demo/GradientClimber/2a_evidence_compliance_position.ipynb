{
 "cells": [
  {
   "cell_type": "markdown",
   "id": "e401b881",
   "metadata": {},
   "source": [
    "## 2a. Evidence - Compliance - Position\n",
    "\n",
    "Evidence collected in this section checks for position complience in the Gradient Climber Example"
   ]
  },
  {
   "cell_type": "markdown",
   "id": "ac36a4e4",
   "metadata": {},
   "source": [
    "### Initialize MLTE Context\n",
    "\n",
    "MLTE contains a global context that manages the currently active _session_. Initializing the context tells MLTE how to store all of the artifacts that it produces. This import will also set up global constants related to folders and model to use."
   ]
  },
  {
   "cell_type": "code",
   "execution_count": 1,
   "id": "1fbe040d",
   "metadata": {},
   "outputs": [
    {
     "name": "stdout",
     "output_type": "stream",
     "text": [
      "Creating initial custom lists at URI: local:///Users/jhansen/continuum/mlte/demo/GradientClimber/../store\n",
      "Loaded 7 qa_categories for initial list\n",
      "Loaded 30 quality_attributes for initial list\n",
      "Creating sample catalog at URI: StoreType.LOCAL_FILESYSTEM:local:///Users/jhansen/continuum/mlte/demo/GradientClimber/../store\n",
      "Loading sample catalog entries.\n",
      "Loaded 9 entries for sample catalog.\n"
     ]
    }
   ],
   "source": [
    "# Sets up context for the model being used, sets up constants related to folders and model data to be used.\n",
    "from demo.GradientClimber.session import *"
   ]
  },
  {
   "cell_type": "code",
   "execution_count": 2,
   "id": "97005305",
   "metadata": {},
   "outputs": [],
   "source": [
    "import numpy as np\n",
    "import gymnasium as gym"
   ]
  },
  {
   "cell_type": "code",
   "execution_count": 3,
   "id": "cec72901",
   "metadata": {},
   "outputs": [],
   "source": [
    "env = gym.make('MountainCar-v0',render_mode=\"rgb_array\")\n",
    "state, info = env.reset()"
   ]
  },
  {
   "cell_type": "code",
   "execution_count": 4,
   "id": "aa0c6eb8",
   "metadata": {},
   "outputs": [],
   "source": [
    "# Discretize the state space (position, velocity)\n",
    "position_bins = np.linspace(-1.2, 0.6, 20)\n",
    "velocity_bins = np.linspace(-0.07, 0.07, 20)\n",
    "\n",
    "# Q-table initialization\n",
    "q_table = np.load(\"mountain_car.npy\")\n",
    "\n",
    "# Discretize the continuous state (position and velocity)\n",
    "def discretize_state(state):\n",
    "    position, velocity = state\n",
    "    position_idx = np.digitize(position, position_bins) - 1  # Position bin index\n",
    "    velocity_idx = np.digitize(velocity, velocity_bins) - 1  # Velocity bin index\n",
    "    return position_idx, velocity_idx\n",
    "\n",
    "# Epsilon-greedy action selection\n",
    "def choose_action(state):\n",
    "    position_idx, velocity_idx = discretize_state(state)\n",
    "    return np.argmax(q_table[position_idx, velocity_idx])"
   ]
  },
  {
   "cell_type": "markdown",
   "id": "0749273a",
   "metadata": {},
   "source": [
    "## Compliance"
   ]
  },
  {
   "cell_type": "code",
   "execution_count": 5,
   "id": "0f599511",
   "metadata": {},
   "outputs": [],
   "source": [
    "def evaluate_action(state,action):\n",
    "    \"Return 1 if this is the expected action, return 0 if it is the wrong move, and -1 as an error condition\"\n",
    "    position, velocity = state\n",
    "    if (position >= -1.2) and (position <= 0.6):\n",
    "        return np.bool(True)\n",
    "    else:\n",
    "        return np.bool(False)"
   ]
  },
  {
   "cell_type": "code",
   "execution_count": 6,
   "id": "8517376d",
   "metadata": {},
   "outputs": [],
   "source": [
    "def test_position_compliance():\n",
    "    done = False\n",
    "    states = [] \n",
    "    trials=100\n",
    "    compliance_evidence = []\n",
    "\n",
    "    for i in range(trials):\n",
    "        test_results = []\n",
    "        state,info = env.reset()\n",
    "        done = False\n",
    "        actions=[]\n",
    "\n",
    "        while not done:\n",
    "            # Random action selection\n",
    "            action = choose_action(state)\n",
    "            states.append(state)\n",
    "            # Take the action and get the next state, reward, done flag, and info\n",
    "            next_state, reward, done, truncated, info = env.step(action)\n",
    "\n",
    "            result = evaluate_action(state,action)\n",
    "            if result==True:\n",
    "                test_results.append(1)\n",
    "            elif result==False:\n",
    "                test_results.append(0)\n",
    "            # Update the state for the next iteration\n",
    "            state = next_state\n",
    "            \n",
    "        frac_in_bounds = np.sum(np.array(test_results)==1)/len(test_results)\n",
    "        print(f\"Completed trial {i}: {frac_in_bounds}\")\n",
    "        compliance_evidence += [frac_in_bounds] \n",
    "\n",
    "    return compliance_evidence\n"
   ]
  },
  {
   "cell_type": "code",
   "execution_count": 7,
   "id": "edaec598",
   "metadata": {},
   "outputs": [
    {
     "name": "stdout",
     "output_type": "stream",
     "text": [
      "Completed trial 0: 1.0\n",
      "Completed trial 1: 1.0\n",
      "Completed trial 2: 1.0\n",
      "Completed trial 3: 1.0\n",
      "Completed trial 4: 1.0\n",
      "Completed trial 5: 1.0\n",
      "Completed trial 6: 1.0\n",
      "Completed trial 7: 1.0\n",
      "Completed trial 8: 1.0\n",
      "Completed trial 9: 1.0\n",
      "Completed trial 10: 1.0\n",
      "Completed trial 11: 1.0\n",
      "Completed trial 12: 1.0\n",
      "Completed trial 13: 1.0\n",
      "Completed trial 14: 1.0\n",
      "Completed trial 15: 1.0\n",
      "Completed trial 16: 1.0\n",
      "Completed trial 17: 1.0\n",
      "Completed trial 18: 1.0\n",
      "Completed trial 19: 1.0\n",
      "Completed trial 20: 1.0\n",
      "Completed trial 21: 1.0\n",
      "Completed trial 22: 1.0\n",
      "Completed trial 23: 1.0\n",
      "Completed trial 24: 1.0\n",
      "Completed trial 25: 1.0\n",
      "Completed trial 26: 1.0\n",
      "Completed trial 27: 1.0\n",
      "Completed trial 28: 1.0\n",
      "Completed trial 29: 1.0\n",
      "Completed trial 30: 1.0\n",
      "Completed trial 31: 1.0\n",
      "Completed trial 32: 1.0\n",
      "Completed trial 33: 1.0\n",
      "Completed trial 34: 1.0\n",
      "Completed trial 35: 1.0\n",
      "Completed trial 36: 1.0\n",
      "Completed trial 37: 1.0\n",
      "Completed trial 38: 1.0\n",
      "Completed trial 39: 1.0\n",
      "Completed trial 40: 1.0\n",
      "Completed trial 41: 1.0\n",
      "Completed trial 42: 1.0\n",
      "Completed trial 43: 1.0\n",
      "Completed trial 44: 1.0\n",
      "Completed trial 45: 1.0\n",
      "Completed trial 46: 1.0\n",
      "Completed trial 47: 1.0\n",
      "Completed trial 48: 1.0\n",
      "Completed trial 49: 1.0\n",
      "Completed trial 50: 1.0\n",
      "Completed trial 51: 1.0\n",
      "Completed trial 52: 1.0\n",
      "Completed trial 53: 1.0\n",
      "Completed trial 54: 1.0\n",
      "Completed trial 55: 1.0\n",
      "Completed trial 56: 1.0\n",
      "Completed trial 57: 1.0\n",
      "Completed trial 58: 1.0\n",
      "Completed trial 59: 1.0\n",
      "Completed trial 60: 1.0\n",
      "Completed trial 61: 1.0\n",
      "Completed trial 62: 1.0\n",
      "Completed trial 63: 1.0\n",
      "Completed trial 64: 1.0\n",
      "Completed trial 65: 1.0\n",
      "Completed trial 66: 1.0\n",
      "Completed trial 67: 1.0\n",
      "Completed trial 68: 1.0\n",
      "Completed trial 69: 1.0\n",
      "Completed trial 70: 1.0\n",
      "Completed trial 71: 1.0\n",
      "Completed trial 72: 1.0\n",
      "Completed trial 73: 1.0\n",
      "Completed trial 74: 1.0\n",
      "Completed trial 75: 1.0\n",
      "Completed trial 76: 1.0\n",
      "Completed trial 77: 1.0\n",
      "Completed trial 78: 1.0\n",
      "Completed trial 79: 1.0\n",
      "Completed trial 80: 1.0\n",
      "Completed trial 81: 1.0\n",
      "Completed trial 82: 1.0\n",
      "Completed trial 83: 1.0\n",
      "Completed trial 84: 1.0\n",
      "Completed trial 85: 1.0\n",
      "Completed trial 86: 1.0\n",
      "Completed trial 87: 1.0\n",
      "Completed trial 88: 1.0\n",
      "Completed trial 89: 1.0\n",
      "Completed trial 90: 1.0\n",
      "Completed trial 91: 1.0\n",
      "Completed trial 92: 1.0\n",
      "Completed trial 93: 1.0\n",
      "Completed trial 94: 1.0\n",
      "Completed trial 95: 1.0\n",
      "Completed trial 96: 1.0\n",
      "Completed trial 97: 1.0\n",
      "Completed trial 98: 1.0\n",
      "Completed trial 99: 1.0\n",
      "[np.float64(1.0), np.float64(1.0), np.float64(1.0), np.float64(1.0), np.float64(1.0), np.float64(1.0), np.float64(1.0), np.float64(1.0), np.float64(1.0), np.float64(1.0), np.float64(1.0), np.float64(1.0), np.float64(1.0), np.float64(1.0), np.float64(1.0), np.float64(1.0), np.float64(1.0), np.float64(1.0), np.float64(1.0), np.float64(1.0), np.float64(1.0), np.float64(1.0), np.float64(1.0), np.float64(1.0), np.float64(1.0), np.float64(1.0), np.float64(1.0), np.float64(1.0), np.float64(1.0), np.float64(1.0), np.float64(1.0), np.float64(1.0), np.float64(1.0), np.float64(1.0), np.float64(1.0), np.float64(1.0), np.float64(1.0), np.float64(1.0), np.float64(1.0), np.float64(1.0), np.float64(1.0), np.float64(1.0), np.float64(1.0), np.float64(1.0), np.float64(1.0), np.float64(1.0), np.float64(1.0), np.float64(1.0), np.float64(1.0), np.float64(1.0), np.float64(1.0), np.float64(1.0), np.float64(1.0), np.float64(1.0), np.float64(1.0), np.float64(1.0), np.float64(1.0), np.float64(1.0), np.float64(1.0), np.float64(1.0), np.float64(1.0), np.float64(1.0), np.float64(1.0), np.float64(1.0), np.float64(1.0), np.float64(1.0), np.float64(1.0), np.float64(1.0), np.float64(1.0), np.float64(1.0), np.float64(1.0), np.float64(1.0), np.float64(1.0), np.float64(1.0), np.float64(1.0), np.float64(1.0), np.float64(1.0), np.float64(1.0), np.float64(1.0), np.float64(1.0), np.float64(1.0), np.float64(1.0), np.float64(1.0), np.float64(1.0), np.float64(1.0), np.float64(1.0), np.float64(1.0), np.float64(1.0), np.float64(1.0), np.float64(1.0), np.float64(1.0), np.float64(1.0), np.float64(1.0), np.float64(1.0), np.float64(1.0), np.float64(1.0), np.float64(1.0), np.float64(1.0), np.float64(1.0), np.float64(1.0)]\n"
     ]
    },
    {
     "data": {
      "text/plain": [
       "ArtifactModel(header=ArtifactHeaderModel(identifier='evidence.gradient climber position accuracy', type='evidence', timestamp=1760129557, creator=None, level='version'), body=EvidenceModel(artifact_type=<ArtifactType.EVIDENCE: 'evidence'>, metadata=EvidenceMetadata(test_case_id='gradient climber position accuracy', measurement=MeasurementMetadata(measurement_class='mlte.measurement.external_measurement.ExternalMeasurement', output_class='mlte.evidence.types.array.Array', additional_data={'function': '__main__.test_position_compliance'})), evidence_class='mlte.evidence.types.array.Array', value=ArrayValueModel(evidence_type=<EvidenceType.ARRAY: 'array'>, data=[np.float64(1.0), np.float64(1.0), np.float64(1.0), np.float64(1.0), np.float64(1.0), np.float64(1.0), np.float64(1.0), np.float64(1.0), np.float64(1.0), np.float64(1.0), np.float64(1.0), np.float64(1.0), np.float64(1.0), np.float64(1.0), np.float64(1.0), np.float64(1.0), np.float64(1.0), np.float64(1.0), np.float64(1.0), np.float64(1.0), np.float64(1.0), np.float64(1.0), np.float64(1.0), np.float64(1.0), np.float64(1.0), np.float64(1.0), np.float64(1.0), np.float64(1.0), np.float64(1.0), np.float64(1.0), np.float64(1.0), np.float64(1.0), np.float64(1.0), np.float64(1.0), np.float64(1.0), np.float64(1.0), np.float64(1.0), np.float64(1.0), np.float64(1.0), np.float64(1.0), np.float64(1.0), np.float64(1.0), np.float64(1.0), np.float64(1.0), np.float64(1.0), np.float64(1.0), np.float64(1.0), np.float64(1.0), np.float64(1.0), np.float64(1.0), np.float64(1.0), np.float64(1.0), np.float64(1.0), np.float64(1.0), np.float64(1.0), np.float64(1.0), np.float64(1.0), np.float64(1.0), np.float64(1.0), np.float64(1.0), np.float64(1.0), np.float64(1.0), np.float64(1.0), np.float64(1.0), np.float64(1.0), np.float64(1.0), np.float64(1.0), np.float64(1.0), np.float64(1.0), np.float64(1.0), np.float64(1.0), np.float64(1.0), np.float64(1.0), np.float64(1.0), np.float64(1.0), np.float64(1.0), np.float64(1.0), np.float64(1.0), np.float64(1.0), np.float64(1.0), np.float64(1.0), np.float64(1.0), np.float64(1.0), np.float64(1.0), np.float64(1.0), np.float64(1.0), np.float64(1.0), np.float64(1.0), np.float64(1.0), np.float64(1.0), np.float64(1.0), np.float64(1.0), np.float64(1.0), np.float64(1.0), np.float64(1.0), np.float64(1.0), np.float64(1.0), np.float64(1.0), np.float64(1.0), np.float64(1.0)])))"
      ]
     },
     "execution_count": 7,
     "metadata": {},
     "output_type": "execute_result"
    }
   ],
   "source": [
    "from mlte.evidence.types.array import Array\n",
    "from mlte.measurement.external_measurement import ExternalMeasurement\n",
    "\n",
    "# Evaluate accuracy, identifier has to be the same one defined in the TestSuite.\n",
    "position_compliance_measurement = ExternalMeasurement(\n",
    "    \"gradient climber position accuracy\", Array, test_position_compliance\n",
    ")\n",
    "evidence = position_compliance_measurement.evaluate()\n",
    "\n",
    "# Inspect value\n",
    "print(evidence)\n",
    "\n",
    "# Save to artifact store\n",
    "evidence.save(force=True,parents=True)"
   ]
  }
 ],
 "metadata": {
  "kernelspec": {
   "display_name": "Python 3 (ipykernel)",
   "language": "python",
   "name": "python3"
  },
  "language_info": {
   "codemirror_mode": {
    "name": "ipython",
    "version": 3
   },
   "file_extension": ".py",
   "mimetype": "text/x-python",
   "name": "python",
   "nbconvert_exporter": "python",
   "pygments_lexer": "ipython3",
   "version": "3.10.4"
  }
 },
 "nbformat": 4,
 "nbformat_minor": 5
}
