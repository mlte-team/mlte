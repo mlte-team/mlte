{
 "cells": [
  {
   "cell_type": "markdown",
   "id": "7b184657",
   "metadata": {},
   "source": [
    "## 3a. Automatic Validation\n",
    "\n",
    "The final phase of SDMT involves aggregating evidence, validating the metrics reflected by the evidence we collected, and displaying this information in a report. In this first step, we will do the automatic validation of the test cases against the `Evidence` we have collected.\n"
   ]
  },
  {
   "cell_type": "markdown",
   "id": "d62c4fd3",
   "metadata": {},
   "source": [
    "### Initialize MLTE Context\n",
    "\n",
    "MLTE contains a global context that manages the currently active session. Initializing the context tells MLTE how to store all of the artifacts that it produces. This import will also set up global constants related to folders and model to use."
   ]
  },
  {
   "cell_type": "code",
   "execution_count": null,
   "id": "09014e66",
   "metadata": {},
   "outputs": [],
   "source": [
    "# Sets up context for the model being used, sets up constants related to folders and model data to be used.\n",
    "from demo.scenarios.session import *"
   ]
  },
  {
   "cell_type": "markdown",
   "id": "9921b916",
   "metadata": {},
   "source": [
    "### Automatic Validation\n",
    "\n",
    "Now run the automatic validation for all test cases, given the collected `Evidence` in the store."
   ]
  },
  {
   "cell_type": "code",
   "execution_count": null,
   "id": "96b5eee4",
   "metadata": {},
   "outputs": [],
   "source": [
    "from mlte.validation.test_suite_validator import TestSuiteValidator\n",
    "\n",
    "# Load validator for default TestSuite id\n",
    "test_suite_validator = TestSuiteValidator()\n",
    "\n",
    "# Load all Evidence and validate TestCases\n",
    "test_results = test_suite_validator.load_and_validate()\n",
    "\n",
    "# We want to see the validation results in the Notebook, regardless of them being saved.\n",
    "test_results.print_results()\n",
    "\n",
    "# TestResults also supports persistence\n",
    "test_results.save(force=True)"
   ]
  }
 ],
 "metadata": {
  "language_info": {
   "name": "python"
  }
 },
 "nbformat": 4,
 "nbformat_minor": 5
}
